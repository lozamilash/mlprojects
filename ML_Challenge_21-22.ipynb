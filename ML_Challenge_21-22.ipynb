{
 "cells": [
  {
   "cell_type": "markdown",
   "metadata": {},
   "source": [
    "# Machine Learning 2021/2022 - Challenge \n",
    "\n",
    "<hr>\n",
    "\n",
    "# Online news popularity prediction\n"
   ]
  },
  {
   "cell_type": "code",
   "execution_count": 2,
   "metadata": {},
   "outputs": [],
   "source": []
  },
  {
   "cell_type": "markdown",
   "metadata": {},
   "source": []
  },
  {
   "cell_type": "markdown",
   "metadata": {},
   "source": [
    "<hr>\n",
    "\n",
    "\n",
    "### Dataset and task Description:\n",
    "<img width='400' src='news-online.jpeg'/>\n",
    "\n",
    "- The challenge is about online news popularity;\n",
    "- The provided dataset consists of one single csv file (\"OnlineNewsPopularity.csv\");\n",
    "- The provided dataset is a modified <b>noisy</b> version of the original dataset described in [1];\n",
    "\n",
    "[1] K. Fernandes, P. Vinagre and P. Cortez. A Proactive Intelligent Decision\n",
    "    Support System for Predicting the Popularity of Online News. Proceedings\n",
    "    of the 17th EPIA 2015 - Portuguese Conference on Artificial Intelligence,\n",
    "    September, Coimbra, Portugal\n",
    "\n",
    "\n",
    "This dataset summarizes a heterogeneous set of features about articles published by Mashable in a period of two years. The goal of the task is to predict the number of shares in social networks (popularity).\n",
    "\n",
    "Number of Instances: <b>39,797</b> \n",
    "\n",
    "Number of Attributes: <b>61</b>\n",
    "\n",
    "Target: <b>shares</b>\n",
    "\n",
    "### Attribute Information:\n",
    "\n",
    "<table>\n",
    " <tr><th> index </th><th>name</th><th>description</th></tr>\n",
    " <tr><td>0</td><td>url</td><td>URL of the article</td></tr>\n",
    " <tr><td>1</td><td>timedelta</td><td>Days between the article publication and the dataset acquisition</td></tr>\n",
    " <tr><td>2</td><td>n_tokens_title</td><td>Number of words in the title</td></tr>\n",
    " <tr><td>3</td><td>n_tokens_content</td><td>Number of words in the content</td></tr>\n",
    " <tr><td>4</td><td>n_unique_tokens</td><td>Rate of unique words in the content</td></tr>\n",
    " <tr><td>5</td><td>n_non_stop_words</td><td>Rate of non-stop words in the content</td></tr>\n",
    " <tr><td>6</td><td>n_non_stop_unique_tokens</td><td>Rate of unique non-stop words in content</td></tr>\n",
    " <tr><td>7</td><td>num_hrefs</td><td>Number of links</td></tr>\n",
    " <tr><td>8</td><td>num_self_hrefs</td><td>Number of links to other articles published by Mashable</td></tr>\n",
    " <tr><td>9</td><td>num_imgs</td><td>Number of images</td></tr>\n",
    " <tr><td>10</td><td>num_videos</td><td>Number of videos</td></tr>\n",
    " <tr><td>11</td><td>average_token_length</td><td>Average length of the words in the content</td></tr>\n",
    " <tr><td>12</td><td>num_keywords</td><td>Number of keywords in the metadata</td></tr>\n",
    " <tr><td>13</td><td>data_channel_is_lifestyle</td><td>Is data channel 'Lifestyle'?</td></tr>\n",
    " <tr><td>14</td><td>data_channel_is_entertainment</td><td>Is data channel 'Entertainment'?</td></tr>\n",
    " <tr><td>15</td><td>data_channel_is_bus</td><td>Is data channel 'Business'?</td></tr>\n",
    " <tr><td>16</td><td>data_channel_is_socmed</td><td>Is data channel 'Social Media'?</td></tr>\n",
    " <tr><td>17</td><td>data_channel_is_tech</td><td>Is data channel 'Tech'?</td></tr>\n",
    " <tr><td>18</td><td>data_channel_is_world</td><td>Is data channel 'World'?</td></tr>\n",
    " <tr><td>19</td><td>kw_min_min</td><td>Worst keyword (min. shares)</td></tr>\n",
    " <tr><td>20</td><td>kw_max_min</td><td>Worst keyword (max. shares)</td></tr>\n",
    " <tr><td>21</td><td>kw_avg_min</td><td>Worst keyword (avg. shares)</td></tr>\n",
    " <tr><td>22</td><td>kw_min_max</td><td>Best keyword (min. shares)</td></tr>\n",
    " <tr><td>23</td><td>kw_max_max</td><td>Best keyword (max. shares)</td></tr>\n",
    " <tr><td>24</td><td>kw_avg_max</td><td>Best keyword (avg. shares)</td></tr>\n",
    " <tr><td>25</td><td>kw_min_avg</td><td>Avg. keyword (min. shares)</td></tr>\n",
    " <tr><td>26</td><td>kw_max_avg</td><td>Avg. keyword (max. shares)</td></tr>\n",
    " <tr><td>27</td><td>kw_avg_avg</td><td>Avg. keyword (avg. shares)</td></tr>\n",
    " <tr><td>28</td><td>self_reference_min_shares</td><td>Min. shares of referenced articles in Mashable</td></tr>\n",
    " <tr><td>29</td><td>self_reference_max_shares</td><td>Max. shares of referenced articles in Mashable</td></tr>\n",
    " <tr><td>30</td><td>self_reference_avg_sharess</td><td>Avg. shares of referenced articles in Mashable</td></tr>\n",
    " <tr><td>31</td><td>weekday_is_monday</td><td>Was the article published on a Monday?</td></tr>\n",
    " <tr><td>32</td><td>weekday_is_tuesday</td><td>Was the article published on a Tuesday?</td></tr>\n",
    " <tr><td>33</td><td>weekday_is_wednesday</td><td>Was the article published on a Wednesday?</td></tr>\n",
    " <tr><td>34</td><td>weekday_is_thursday</td><td>Was the article published on a Thursday?</td></tr>\n",
    " <tr><td>35</td><td>weekday_is_friday</td><td>Was the article published on a Friday?</td></tr>\n",
    " <tr><td>36</td><td>weekday_is_saturday</td><td>Was the article published on a Saturday?</td></tr>\n",
    " <tr><td>37</td><td>weekday_is_sunday</td><td> Was the article published on a Sunday?</td></tr>\n",
    " <tr><td>38</td><td>is_weekend</td><td>Was the article published on the weekend?</td></tr>\n",
    " <tr><td>39</td><td>LDA_00</td><td>Closeness to LDA topic 0</td></tr>\n",
    " <tr><td>40</td><td>LDA_01</td><td>Closeness to LDA topic 1</td></tr>\n",
    " <tr><td>41</td><td>LDA_02</td><td>Closeness to LDA topic 2</td></tr>\n",
    " <tr><td>42</td><td>LDA_03</td><td>Closeness to LDA topic 3</td></tr>\n",
    " <tr><td>43</td><td>LDA_04</td><td>Closeness to LDA topic 4</td></tr>\n",
    " <tr><td>44</td><td>global_subjectivity</td><td>Text subjectivity</td></tr>\n",
    " <tr><td>45</td><td>global_sentiment_polarity</td><td>Text sentiment polarity</td></tr>\n",
    " <tr><td>46</td><td>global_rate_positive_words</td><td>Rate of positive words in the content</td></tr>\n",
    " <tr><td>47</td><td>global_rate_negative_words</td><td> Rate of negative words in the content</td></tr>\n",
    " <tr><td>48</td><td>rate_positive_words</td><td>Rate of positive words among non-neutral tokens</td></tr>\n",
    " <tr><td>49</td><td>rate_negative_words</td><td>Rate of negative words among non-neutral tokens</td></tr>\n",
    " <tr><td>50</td><td>avg_positive_polarity</td><td>Avg. polarity of positive words</td></tr>\n",
    " <tr><td>51</td><td>min_positive_polarity</td><td>Min. polarity of positive words</td></tr>\n",
    " <tr><td>52</td><td>max_positive_polarity</td><td>Max. polarity of positive words</td></tr>\n",
    " <tr><td>53</td><td>avg_negative_polarity</td><td>Avg. polarity of negative words</td></tr>\n",
    " <tr><td>54</td><td>min_negative_polarity</td><td>Min. polarity of negative words</td></tr>\n",
    " <tr><td>55</td><td>max_negative_polarity</td><td>Max. polarity of negative words</td></tr>\n",
    " <tr><td>56</td><td>title_subjectivity</td><td>Title subjectivity</td></tr>\n",
    " <tr><td>57</td><td>title_sentiment_polarity</td><td>Title polarity</td></tr>\n",
    " <tr><td>58</td><td>abs_title_subjectivity</td><td>Absolute subjectivity level</td></tr>\n",
    " <tr><td>59</td><td>abs_title_sentiment_polarity</td><td>Absolute polarity level</td></tr>\n",
    "     <tr><td>60</td><td>shares</td><td>Number of shares (target)</td></tr>\n",
    "</table>\n",
    "\n"
   ]
  },
  {
   "cell_type": "markdown",
   "metadata": {},
   "source": [
    "<hr>\n",
    "\n",
    "# 2. Pre-processing (up to 3 of 11.2 points)     \n",
    "     \n",
    "     \n",
    "## 2.1 Clean and Load the Dataset (up to 1 of 11.2 points)\n",
    "Use the following two cells (a code cell and, a markdown cell) to: \n",
    "- create a pandas DataFrame by loading a cleaned version of the \"OnlineNewsPopularity.cvs\" file.  \n",
    "- describe the identified noise and the methodology used to fix the problems. "
   ]
  },
  {
   "cell_type": "code",
   "execution_count": 1,
   "metadata": {},
   "outputs": [],
   "source": [
    "# write here the code for 2.1 Load the Dataset\n",
    "import pandas as pd\n",
    "import numpy as np\n",
    "df = pd.read_csv('OnlineNewsPopularity_cleaned.csv')"
   ]
  },
  {
   "cell_type": "markdown",
   "metadata": {},
   "source": [
    "your comments for step 2.1 Clean and Load the Dataset\n",
    "\n",
    "noises idetified \n",
    "1- formatting error (misplaced commas).It is fixed by rearranging columns and rows, dragging and shifting certain rows to the left which resulted in data with in data with in a range. \n",
    "eg.rows 39592-39645, 36262-36264,39536-37  are some which are fixed by the above process on Excel. \n",
    "\n",
    "2- Inconsistent values and and empty cells,replaced by the average values of the corresponding features. \n",
    "eg. Cells (38062,J), (36556,K),(38178,K),(37909,BI),(35155,AL) .. are replaced by average values\n",
    "\n",
    "3- rows that have empty values for the majority of the features are deleted.\n",
    " "
   ]
  },
  {
   "cell_type": "markdown",
   "metadata": {},
   "source": [
    "## 2.2 Dataset Analysis (up to 1 of 11.2 points)\n",
    "In the following code cell (feel free to create new cells), remember to comment your code snippets:\n",
    "\n",
    "1) Print the total number of samples;\n",
    "\n",
    "2) Print a table with the first 15 samples;\n",
    "\n",
    "3) Plot the histogram distribution of \"shares\";\n",
    "\n",
    "4) A bar chart counting the attributes:  data_channel_is_lifestyle, data_channel_is_entertainment, data_channel_is_bus, data_channel_is_socmed, data_channel_is_tech, data_channel_is_world;\n",
    "\n"
   ]
  },
  {
   "cell_type": "code",
   "execution_count": 2,
   "metadata": {},
   "outputs": [
    {
     "name": "stdout",
     "output_type": "stream",
     "text": [
      "The total number of samples is = 39643\n"
     ]
    }
   ],
   "source": [
    "# write here the code for 2.2 Dataset Analysis\n",
    "#2.2.1) Print the total number of samples;\n",
    "samples = df.iloc[:,-1]\n",
    "num_samples = samples.count()\n",
    "print('The total number of samples is =' , num_samples)"
   ]
  },
  {
   "cell_type": "code",
   "execution_count": 3,
   "metadata": {},
   "outputs": [
    {
     "name": "stdout",
     "output_type": "stream",
     "text": [
      "                                                  url  timedelta  \\\n",
      "0   http://mashable.com/2013/01/07/amazon-instant-...        731   \n",
      "1   http://mashable.com/2013/01/07/ap-samsung-spon...        731   \n",
      "2   http://mashable.com/2013/01/07/apple-40-billio...        731   \n",
      "3   http://mashable.com/2013/01/07/astronaut-notre...        731   \n",
      "4    http://mashable.com/2013/01/07/att-u-verse-apps/        731   \n",
      "5    http://mashable.com/2013/01/07/beewi-smart-toys/        731   \n",
      "6   http://mashable.com/2013/01/07/bodymedia-armba...        731   \n",
      "7    http://mashable.com/2013/01/07/canon-poweshot-n/        731   \n",
      "8   http://mashable.com/2013/01/07/car-of-the-futu...        731   \n",
      "9   http://mashable.com/2013/01/07/chuck-hagel-web...        731   \n",
      "10  http://mashable.com/2013/01/07/cosmic-events-d...        731   \n",
      "11   http://mashable.com/2013/01/07/crayon-creatures/        731   \n",
      "12      http://mashable.com/2013/01/07/creature-cups/        731   \n",
      "13          http://mashable.com/2013/01/07/dad-jokes/        731   \n",
      "14  http://mashable.com/2013/01/07/downton-abbey-t...        731   \n",
      "\n",
      "    n_tokens_title  n_tokens_content  n_unique_tokens  n_non_stop_words  \\\n",
      "0               12               219         0.663594               1.0   \n",
      "1                9               255         0.604743               1.0   \n",
      "2                9               211         0.575130               1.0   \n",
      "3                9               531         0.503788               1.0   \n",
      "4               13              1072         0.415646               1.0   \n",
      "5               10               370         0.559889               1.0   \n",
      "6                8               960         0.418163               1.0   \n",
      "7               12               989         0.433574               1.0   \n",
      "8               11                97         0.670103               1.0   \n",
      "9               10               231         0.636364               1.0   \n",
      "10               9              1248         0.490050               1.0   \n",
      "11              10               187         0.666667               1.0   \n",
      "12               9               274         0.609195               1.0   \n",
      "13               9               285         0.744186               1.0   \n",
      "14               8               259         0.562753               1.0   \n",
      "\n",
      "    n_non_stop_unique_tokens  num_herfs  num_self_herfs  num_imgs  ...  \\\n",
      "0                   0.815385          4               2         1  ...   \n",
      "1                   0.791946          3               1         1  ...   \n",
      "2                   0.663866          3               1         1  ...   \n",
      "3                   0.665635          9               0         1  ...   \n",
      "4                   0.540890         19              19        20  ...   \n",
      "5                   0.698198          2               2         0  ...   \n",
      "6                   0.549834         21              20        20  ...   \n",
      "7                   0.572108         20              20        20  ...   \n",
      "8                   0.836735          2               0         0  ...   \n",
      "9                   0.797101          4               1         1  ...   \n",
      "10                  0.731638         11               0         1  ...   \n",
      "11                  0.800000          7               0         1  ...   \n",
      "12                  0.707602         18               2        11  ...   \n",
      "13                  0.841530          4               2         0  ...   \n",
      "14                  0.644444         19               3         9  ...   \n",
      "\n",
      "    min_postive_polarity  max_postive_polarity  avg_negative_polarity  \\\n",
      "0               0.100000                   0.7              -0.350000   \n",
      "1               0.033333                   0.7              -0.118750   \n",
      "2               0.100000                   1.0              -0.466667   \n",
      "3               0.136364                   0.8              -0.369697   \n",
      "4               0.033333                   1.0              -0.220192   \n",
      "5               0.136364                   0.6              -0.195000   \n",
      "6               0.100000                   1.0              -0.224479   \n",
      "7               0.100000                   1.0              -0.242778   \n",
      "8               0.400000                   0.8              -0.125000   \n",
      "9               0.100000                   0.5              -0.238095   \n",
      "10              0.100000                   1.0              -0.415064   \n",
      "11              0.200000                   0.7              -0.262500   \n",
      "12              0.200000                   0.7              -0.310417   \n",
      "13              0.160000                   1.0              -0.337889   \n",
      "14              0.136364                   0.5              -0.138690   \n",
      "\n",
      "    min_negative_polarity  max_negative_polarity  title_subjectivity  \\\n",
      "0                 -0.6000              -0.200000            0.500000   \n",
      "1                 -0.1250              -0.100000            0.000000   \n",
      "2                 -0.8000              -0.133333            0.000000   \n",
      "3                 -0.6000              -0.166667            0.000000   \n",
      "4                 -0.5000              -0.050000            0.454545   \n",
      "5                 -0.4000              -0.100000            0.642857   \n",
      "6                 -0.5000              -0.050000            0.000000   \n",
      "7                 -0.5000              -0.050000            1.000000   \n",
      "8                 -0.1250              -0.125000            0.125000   \n",
      "9                 -0.5000              -0.100000            0.000000   \n",
      "10                -1.0000              -0.100000            0.000000   \n",
      "11                -0.4000              -0.125000            0.000000   \n",
      "12                -0.6000              -0.050000            1.000000   \n",
      "13                -0.7000              -0.100000            1.000000   \n",
      "14                -0.1875              -0.050000            0.750000   \n",
      "\n",
      "    title_sentiment_polarity  abs_title_subjectivity  \\\n",
      "0                  -0.187500                0.000000   \n",
      "1                   0.000000                0.500000   \n",
      "2                   0.000000                0.500000   \n",
      "3                   0.000000                0.500000   \n",
      "4                   0.136364                0.045455   \n",
      "5                   0.214286                0.142857   \n",
      "6                   0.000000                0.500000   \n",
      "7                   0.500000                0.500000   \n",
      "8                   0.000000                0.375000   \n",
      "9                   0.000000                0.500000   \n",
      "10                  0.000000                0.500000   \n",
      "11                  0.000000                0.500000   \n",
      "12                 -1.000000                0.500000   \n",
      "13                 -1.000000                0.500000   \n",
      "14                  0.550000                0.250000   \n",
      "\n",
      "    abs_title_sentiment_polarity  shares  \n",
      "0                       0.187500     593  \n",
      "1                       0.000000     711  \n",
      "2                       0.000000    1500  \n",
      "3                       0.000000    1200  \n",
      "4                       0.136364     505  \n",
      "5                       0.214286     855  \n",
      "6                       0.000000     556  \n",
      "7                       0.500000     891  \n",
      "8                       0.000000    3600  \n",
      "9                       0.000000     710  \n",
      "10                      0.000000    2200  \n",
      "11                      0.000000    1900  \n",
      "12                      1.000000     823  \n",
      "13                      1.000000   10000  \n",
      "14                      0.550000     761  \n",
      "\n",
      "[15 rows x 61 columns]\n"
     ]
    }
   ],
   "source": [
    "#2.2.2) Print a table with the first 15 samples;\n",
    "df_15 = df.head(15)\n",
    "df_15\n",
    "print(df_15)"
   ]
  },
  {
   "cell_type": "code",
   "execution_count": 5,
   "metadata": {},
   "outputs": [
    {
     "data": {
      "image/png": "[encoded data removed]",
      "text/plain": [
       "<Figure size 1008x288 with 3 Axes>"
      ]
     },
     "metadata": {
      "needs_background": "light"
     },
     "output_type": "display_data"
    }
   ],
   "source": [
    "#2.2.3) Plot the histogram distribution of \"shares\";\n",
    "%matplotlib inline\n",
    "import matplotlib\n",
    "import matplotlib.pyplot as plt\n",
    "shares = df.shares\n",
    "fig, axes = plt.subplots(1, 3, figsize=(14,4))\n",
    "\n",
    "axes[0].hist(shares)\n",
    "axes[0].set_title(\"Histogram - range[min,max]\")\n",
    "axes[0].set_xlim((min(shares), max(shares)))\n",
    "\n",
    "\n",
    "axes[1].hist(shares)\n",
    "axes[1].set_title(\"Histogram - range[median,mean]\")\n",
    "axes[1].set_xlim((1400, 3395))\n",
    "\n",
    "axes[2].hist(shares)\n",
    "axes[2].set_title(\"Histogram - range[mode,median,]\")\n",
    "axes[2].set_xlim((1100, 1400))\n",
    "plt.savefig('histogram_distribution_of_shares.png')"
   ]
  },
  {
   "cell_type": "code",
   "execution_count": 7,
   "metadata": {},
   "outputs": [
    {
     "data": {
      "image/png": "[encoded data removed]",
      "text/plain": [
       "<Figure size 864x432 with 1 Axes>"
      ]
     },
     "metadata": {
      "needs_background": "light"
     },
     "output_type": "display_data"
    }
   ],
   "source": [
    "#2.2.4) A bar chart counting the attributes: data_channel_is_lifestyle, data_channel_is_entertainment, data_channel_is_bus, data_channel_is_socmed, data_channel_is_tech, data_channel_is_world;\n",
    "life_style = df.data_channel_is_lifestyle\n",
    "n1=life_style.sum( )\n",
    "\n",
    "Entertainment=df.data_channel_is_entertainment \n",
    "n2=Entertainment.sum( )\n",
    "\n",
    "Bus = df.data_channel_is_bus\n",
    "n3 = Bus.sum( )\n",
    "\n",
    "socmed = df.data_channel_is_socmed\n",
    "n4 = socmed.sum( )\n",
    "\n",
    "tech = df.data_channel_is_tech\n",
    "n5 = tech.sum( )\n",
    "\n",
    "world = df.data_channel_is_world\n",
    "n6 = world.sum( )\n",
    "\n",
    "\n",
    "n = np.array(['life_style','Entertainment','Bus','socmed','tech','world'])\n",
    "count = np.array([n1 ,n2,n3,n4,n5,n6])\n",
    "count\n",
    "\n",
    "fig, axes = plt.subplots(1, 1, figsize=(12,6))\n",
    "axes.bar(n,count,align=\"center\", width=0.5, alpha=0.8)\n",
    "axes.set_title(\"attributs vs their count\")\n",
    "plt.savefig('binary_attributes vs their count.png')"
   ]
  },
  {
   "cell_type": "markdown",
   "metadata": {},
   "source": [
    "your comments for step 2.2 Dataset Analysis\n",
    "\n",
    "- After datacleaning number of samples is reduced from 39797 to 39644(153 samples removed)\n",
    "- from the histogram of the target feature,\"shares\", we see that values of the feature are highly distributed between the mode and the mean value \n",
    "- the attributes vs count barchart for 6 the binary features shows world,entertainment,tech and bus have high value counts , ie have a value=1 for majority of the cases whereas attributes lifestyle and socmed have more zeros so less value count. \n"
   ]
  },
  {
   "cell_type": "markdown",
   "metadata": {},
   "source": [
    "## 2.3 Feature importance analysis  (up to 1 of 11.2 points)\n",
    "\n",
    "Perform feature importance analysis"
   ]
  },
  {
   "cell_type": "code",
   "execution_count": 10,
   "metadata": {},
   "outputs": [],
   "source": [
    "# write here the code for 2.4 Feature importance analysis\n",
    "import pandas as pd\n",
    "# The first column with url features is splitted in to the following \n",
    "data = pd.read_csv('URL_split_1.csv')\n",
    "dataA = pd.read_csv('URL_split_2A.csv')\n",
    "dataB = pd.read_csv('URL_split_2B.csv')\n",
    "dataC = pd.read_csv('URL_split_2C.csv')\n",
    "dataD = pd.read_csv('URL_split_2D.csv')"
   ]
  },
  {
   "cell_type": "code",
   "execution_count": 47,
   "metadata": {},
   "outputs": [
    {
     "data": {
      "text/plain": [
       "((39643, 3),\n",
       "      yy mm dd\n",
       " 0  2013  1  7\n",
       " 1  2013  1  7\n",
       " 2  2013  1  7\n",
       " 3  2013  1  7\n",
       " 4  2013  1  7,\n",
       " yy    object\n",
       " mm    object\n",
       " dd    object\n",
       " dtype: object)"
      ]
     },
     "execution_count": 47,
     "metadata": {},
     "output_type": "execute_result"
    }
   ],
   "source": [
    "#df_1\n",
    "data.shape , data.head() , data.dtypes"
   ]
  },
  {
   "cell_type": "code",
   "execution_count": 48,
   "metadata": {},
   "outputs": [
    {
     "data": {
      "text/plain": [
       "yy    object\n",
       "mm    object\n",
       "dd    object\n",
       "dtype: object"
      ]
     },
     "execution_count": 48,
     "metadata": {},
     "output_type": "execute_result"
    }
   ],
   "source": [
    "#Change data type to object\n",
    "data['yy'] = data['yy'].astype(str)\n",
    "data['mm'] = data['mm'].astype(str)\n",
    "data['dd'] = data['dd'].astype(str)\n",
    "data.dtypes"
   ]
  },
  {
   "cell_type": "code",
   "execution_count": 49,
   "metadata": {},
   "outputs": [
    {
     "data": {
      "text/html": [
       "<div>\n",
       "<style scoped>\n",
       "    .dataframe tbody tr th:only-of-type {\n",
       "        vertical-align: middle;\n",
       "    }\n",
       "\n",
       "    .dataframe tbody tr th {\n",
       "        vertical-align: top;\n",
       "    }\n",
       "\n",
       "    .dataframe thead th {\n",
       "        text-align: right;\n",
       "    }\n",
       "</style>\n",
       "<table border=\"1\" class=\"dataframe\">\n",
       "  <thead>\n",
       "    <tr style=\"text-align: right;\">\n",
       "      <th></th>\n",
       "      <th>yy_2013</th>\n",
       "      <th>yy_2014</th>\n",
       "      <th>mm_1</th>\n",
       "      <th>mm_10</th>\n",
       "      <th>mm_11</th>\n",
       "      <th>mm_12</th>\n",
       "      <th>mm_2</th>\n",
       "      <th>mm_3</th>\n",
       "      <th>mm_4</th>\n",
       "      <th>mm_5</th>\n",
       "      <th>...</th>\n",
       "      <th>dd_29</th>\n",
       "      <th>dd_3</th>\n",
       "      <th>dd_30</th>\n",
       "      <th>dd_31</th>\n",
       "      <th>dd_4</th>\n",
       "      <th>dd_5</th>\n",
       "      <th>dd_6</th>\n",
       "      <th>dd_7</th>\n",
       "      <th>dd_8</th>\n",
       "      <th>dd_9</th>\n",
       "    </tr>\n",
       "  </thead>\n",
       "  <tbody>\n",
       "    <tr>\n",
       "      <th>0</th>\n",
       "      <td>1</td>\n",
       "      <td>0</td>\n",
       "      <td>1</td>\n",
       "      <td>0</td>\n",
       "      <td>0</td>\n",
       "      <td>0</td>\n",
       "      <td>0</td>\n",
       "      <td>0</td>\n",
       "      <td>0</td>\n",
       "      <td>0</td>\n",
       "      <td>...</td>\n",
       "      <td>0</td>\n",
       "      <td>0</td>\n",
       "      <td>0</td>\n",
       "      <td>0</td>\n",
       "      <td>0</td>\n",
       "      <td>0</td>\n",
       "      <td>0</td>\n",
       "      <td>1</td>\n",
       "      <td>0</td>\n",
       "      <td>0</td>\n",
       "    </tr>\n",
       "    <tr>\n",
       "      <th>1</th>\n",
       "      <td>1</td>\n",
       "      <td>0</td>\n",
       "      <td>1</td>\n",
       "      <td>0</td>\n",
       "      <td>0</td>\n",
       "      <td>0</td>\n",
       "      <td>0</td>\n",
       "      <td>0</td>\n",
       "      <td>0</td>\n",
       "      <td>0</td>\n",
       "      <td>...</td>\n",
       "      <td>0</td>\n",
       "      <td>0</td>\n",
       "      <td>0</td>\n",
       "      <td>0</td>\n",
       "      <td>0</td>\n",
       "      <td>0</td>\n",
       "      <td>0</td>\n",
       "      <td>1</td>\n",
       "      <td>0</td>\n",
       "      <td>0</td>\n",
       "    </tr>\n",
       "    <tr>\n",
       "      <th>2</th>\n",
       "      <td>1</td>\n",
       "      <td>0</td>\n",
       "      <td>1</td>\n",
       "      <td>0</td>\n",
       "      <td>0</td>\n",
       "      <td>0</td>\n",
       "      <td>0</td>\n",
       "      <td>0</td>\n",
       "      <td>0</td>\n",
       "      <td>0</td>\n",
       "      <td>...</td>\n",
       "      <td>0</td>\n",
       "      <td>0</td>\n",
       "      <td>0</td>\n",
       "      <td>0</td>\n",
       "      <td>0</td>\n",
       "      <td>0</td>\n",
       "      <td>0</td>\n",
       "      <td>1</td>\n",
       "      <td>0</td>\n",
       "      <td>0</td>\n",
       "    </tr>\n",
       "    <tr>\n",
       "      <th>3</th>\n",
       "      <td>1</td>\n",
       "      <td>0</td>\n",
       "      <td>1</td>\n",
       "      <td>0</td>\n",
       "      <td>0</td>\n",
       "      <td>0</td>\n",
       "      <td>0</td>\n",
       "      <td>0</td>\n",
       "      <td>0</td>\n",
       "      <td>0</td>\n",
       "      <td>...</td>\n",
       "      <td>0</td>\n",
       "      <td>0</td>\n",
       "      <td>0</td>\n",
       "      <td>0</td>\n",
       "      <td>0</td>\n",
       "      <td>0</td>\n",
       "      <td>0</td>\n",
       "      <td>1</td>\n",
       "      <td>0</td>\n",
       "      <td>0</td>\n",
       "    </tr>\n",
       "    <tr>\n",
       "      <th>4</th>\n",
       "      <td>1</td>\n",
       "      <td>0</td>\n",
       "      <td>1</td>\n",
       "      <td>0</td>\n",
       "      <td>0</td>\n",
       "      <td>0</td>\n",
       "      <td>0</td>\n",
       "      <td>0</td>\n",
       "      <td>0</td>\n",
       "      <td>0</td>\n",
       "      <td>...</td>\n",
       "      <td>0</td>\n",
       "      <td>0</td>\n",
       "      <td>0</td>\n",
       "      <td>0</td>\n",
       "      <td>0</td>\n",
       "      <td>0</td>\n",
       "      <td>0</td>\n",
       "      <td>1</td>\n",
       "      <td>0</td>\n",
       "      <td>0</td>\n",
       "    </tr>\n",
       "  </tbody>\n",
       "</table>\n",
       "<p>5 rows × 45 columns</p>\n",
       "</div>"
      ],
      "text/plain": [
       "   yy_2013  yy_2014  mm_1  mm_10  mm_11  mm_12  mm_2  mm_3  mm_4  mm_5  ...  \\\n",
       "0        1        0     1      0      0      0     0     0     0     0  ...   \n",
       "1        1        0     1      0      0      0     0     0     0     0  ...   \n",
       "2        1        0     1      0      0      0     0     0     0     0  ...   \n",
       "3        1        0     1      0      0      0     0     0     0     0  ...   \n",
       "4        1        0     1      0      0      0     0     0     0     0  ...   \n",
       "\n",
       "   dd_29  dd_3  dd_30  dd_31  dd_4  dd_5  dd_6  dd_7  dd_8  dd_9  \n",
       "0      0     0      0      0     0     0     0     1     0     0  \n",
       "1      0     0      0      0     0     0     0     1     0     0  \n",
       "2      0     0      0      0     0     0     0     1     0     0  \n",
       "3      0     0      0      0     0     0     0     1     0     0  \n",
       "4      0     0      0      0     0     0     0     1     0     0  \n",
       "\n",
       "[5 rows x 45 columns]"
      ]
     },
     "execution_count": 49,
     "metadata": {},
     "output_type": "execute_result"
    }
   ],
   "source": [
    "# one hot encoding \n",
    "df1 =pd.get_dummies(data)\n",
    "df1.head()"
   ]
  },
  {
   "cell_type": "code",
   "execution_count": 50,
   "metadata": {},
   "outputs": [],
   "source": [
    "#dfA"
   ]
  },
  {
   "cell_type": "code",
   "execution_count": 51,
   "metadata": {},
   "outputs": [
    {
     "data": {
      "text/plain": [
       "((39643, 1),\n",
       "            A\n",
       " 0     amazon\n",
       " 1         ap\n",
       " 2      apple\n",
       " 3  astronaut\n",
       " 4        att,\n",
       " A    object\n",
       " dtype: object)"
      ]
     },
     "execution_count": 51,
     "metadata": {},
     "output_type": "execute_result"
    }
   ],
   "source": [
    "dataA.shape , dataA.head() , dataA.dtypes"
   ]
  },
  {
   "cell_type": "code",
   "execution_count": 52,
   "metadata": {},
   "outputs": [
    {
     "data": {
      "text/html": [
       "<div>\n",
       "<style scoped>\n",
       "    .dataframe tbody tr th:only-of-type {\n",
       "        vertical-align: middle;\n",
       "    }\n",
       "\n",
       "    .dataframe tbody tr th {\n",
       "        vertical-align: top;\n",
       "    }\n",
       "\n",
       "    .dataframe thead th {\n",
       "        text-align: right;\n",
       "    }\n",
       "</style>\n",
       "<table border=\"1\" class=\"dataframe\">\n",
       "  <thead>\n",
       "    <tr style=\"text-align: right;\">\n",
       "      <th></th>\n",
       "      <th>A_1</th>\n",
       "      <th>A_10</th>\n",
       "      <th>A_100</th>\n",
       "      <th>A_100000</th>\n",
       "      <th>A_101</th>\n",
       "      <th>A_102</th>\n",
       "      <th>A_105</th>\n",
       "      <th>A_108</th>\n",
       "      <th>A_11</th>\n",
       "      <th>A_113</th>\n",
       "      <th>...</th>\n",
       "      <th>A_zooey</th>\n",
       "      <th>A_zoomer</th>\n",
       "      <th>A_zte</th>\n",
       "      <th>A_zuckerberg</th>\n",
       "      <th>A_zulily</th>\n",
       "      <th>A_zumba</th>\n",
       "      <th>A_zumper</th>\n",
       "      <th>A_zurb</th>\n",
       "      <th>A_zynga</th>\n",
       "      <th>A_zzzquil</th>\n",
       "    </tr>\n",
       "  </thead>\n",
       "  <tbody>\n",
       "    <tr>\n",
       "      <th>0</th>\n",
       "      <td>0</td>\n",
       "      <td>0</td>\n",
       "      <td>0</td>\n",
       "      <td>0</td>\n",
       "      <td>0</td>\n",
       "      <td>0</td>\n",
       "      <td>0</td>\n",
       "      <td>0</td>\n",
       "      <td>0</td>\n",
       "      <td>0</td>\n",
       "      <td>...</td>\n",
       "      <td>0</td>\n",
       "      <td>0</td>\n",
       "      <td>0</td>\n",
       "      <td>0</td>\n",
       "      <td>0</td>\n",
       "      <td>0</td>\n",
       "      <td>0</td>\n",
       "      <td>0</td>\n",
       "      <td>0</td>\n",
       "      <td>0</td>\n",
       "    </tr>\n",
       "    <tr>\n",
       "      <th>1</th>\n",
       "      <td>0</td>\n",
       "      <td>0</td>\n",
       "      <td>0</td>\n",
       "      <td>0</td>\n",
       "      <td>0</td>\n",
       "      <td>0</td>\n",
       "      <td>0</td>\n",
       "      <td>0</td>\n",
       "      <td>0</td>\n",
       "      <td>0</td>\n",
       "      <td>...</td>\n",
       "      <td>0</td>\n",
       "      <td>0</td>\n",
       "      <td>0</td>\n",
       "      <td>0</td>\n",
       "      <td>0</td>\n",
       "      <td>0</td>\n",
       "      <td>0</td>\n",
       "      <td>0</td>\n",
       "      <td>0</td>\n",
       "      <td>0</td>\n",
       "    </tr>\n",
       "    <tr>\n",
       "      <th>2</th>\n",
       "      <td>0</td>\n",
       "      <td>0</td>\n",
       "      <td>0</td>\n",
       "      <td>0</td>\n",
       "      <td>0</td>\n",
       "      <td>0</td>\n",
       "      <td>0</td>\n",
       "      <td>0</td>\n",
       "      <td>0</td>\n",
       "      <td>0</td>\n",
       "      <td>...</td>\n",
       "      <td>0</td>\n",
       "      <td>0</td>\n",
       "      <td>0</td>\n",
       "      <td>0</td>\n",
       "      <td>0</td>\n",
       "      <td>0</td>\n",
       "      <td>0</td>\n",
       "      <td>0</td>\n",
       "      <td>0</td>\n",
       "      <td>0</td>\n",
       "    </tr>\n",
       "    <tr>\n",
       "      <th>3</th>\n",
       "      <td>0</td>\n",
       "      <td>0</td>\n",
       "      <td>0</td>\n",
       "      <td>0</td>\n",
       "      <td>0</td>\n",
       "      <td>0</td>\n",
       "      <td>0</td>\n",
       "      <td>0</td>\n",
       "      <td>0</td>\n",
       "      <td>0</td>\n",
       "      <td>...</td>\n",
       "      <td>0</td>\n",
       "      <td>0</td>\n",
       "      <td>0</td>\n",
       "      <td>0</td>\n",
       "      <td>0</td>\n",
       "      <td>0</td>\n",
       "      <td>0</td>\n",
       "      <td>0</td>\n",
       "      <td>0</td>\n",
       "      <td>0</td>\n",
       "    </tr>\n",
       "    <tr>\n",
       "      <th>4</th>\n",
       "      <td>0</td>\n",
       "      <td>0</td>\n",
       "      <td>0</td>\n",
       "      <td>0</td>\n",
       "      <td>0</td>\n",
       "      <td>0</td>\n",
       "      <td>0</td>\n",
       "      <td>0</td>\n",
       "      <td>0</td>\n",
       "      <td>0</td>\n",
       "      <td>...</td>\n",
       "      <td>0</td>\n",
       "      <td>0</td>\n",
       "      <td>0</td>\n",
       "      <td>0</td>\n",
       "      <td>0</td>\n",
       "      <td>0</td>\n",
       "      <td>0</td>\n",
       "      <td>0</td>\n",
       "      <td>0</td>\n",
       "      <td>0</td>\n",
       "    </tr>\n",
       "  </tbody>\n",
       "</table>\n",
       "<p>5 rows × 8693 columns</p>\n",
       "</div>"
      ],
      "text/plain": [
       "   A_1  A_10  A_100  A_100000  A_101  A_102  A_105  A_108  A_11  A_113  ...  \\\n",
       "0    0     0      0         0      0      0      0      0     0      0  ...   \n",
       "1    0     0      0         0      0      0      0      0     0      0  ...   \n",
       "2    0     0      0         0      0      0      0      0     0      0  ...   \n",
       "3    0     0      0         0      0      0      0      0     0      0  ...   \n",
       "4    0     0      0         0      0      0      0      0     0      0  ...   \n",
       "\n",
       "   A_zooey  A_zoomer  A_zte  A_zuckerberg  A_zulily  A_zumba  A_zumper  \\\n",
       "0        0         0      0             0         0        0         0   \n",
       "1        0         0      0             0         0        0         0   \n",
       "2        0         0      0             0         0        0         0   \n",
       "3        0         0      0             0         0        0         0   \n",
       "4        0         0      0             0         0        0         0   \n",
       "\n",
       "   A_zurb  A_zynga  A_zzzquil  \n",
       "0       0        0          0  \n",
       "1       0        0          0  \n",
       "2       0        0          0  \n",
       "3       0        0          0  \n",
       "4       0        0          0  \n",
       "\n",
       "[5 rows x 8693 columns]"
      ]
     },
     "execution_count": 52,
     "metadata": {},
     "output_type": "execute_result"
    }
   ],
   "source": [
    "# one hot encoding \n",
    "dfA =pd.get_dummies(dataA)\n",
    "dfA.head()"
   ]
  },
  {
   "cell_type": "code",
   "execution_count": 53,
   "metadata": {},
   "outputs": [
    {
     "data": {
      "text/plain": [
       "((39643, 1),\n",
       "          B\n",
       " 0  instant\n",
       " 1  samsung\n",
       " 2       40\n",
       " 3    notre\n",
       " 4        u,\n",
       " B    object\n",
       " dtype: object)"
      ]
     },
     "execution_count": 53,
     "metadata": {},
     "output_type": "execute_result"
    }
   ],
   "source": [
    "dataB.shape , dataB.head() , dataB.dtypes"
   ]
  },
  {
   "cell_type": "code",
   "execution_count": 54,
   "metadata": {},
   "outputs": [
    {
     "data": {
      "text/html": [
       "<div>\n",
       "<style scoped>\n",
       "    .dataframe tbody tr th:only-of-type {\n",
       "        vertical-align: middle;\n",
       "    }\n",
       "\n",
       "    .dataframe tbody tr th {\n",
       "        vertical-align: top;\n",
       "    }\n",
       "\n",
       "    .dataframe thead th {\n",
       "        text-align: right;\n",
       "    }\n",
       "</style>\n",
       "<table border=\"1\" class=\"dataframe\">\n",
       "  <thead>\n",
       "    <tr style=\"text-align: right;\">\n",
       "      <th></th>\n",
       "      <th>B_1</th>\n",
       "      <th>B_10</th>\n",
       "      <th>B_100</th>\n",
       "      <th>B_1000</th>\n",
       "      <th>B_100000</th>\n",
       "      <th>B_101</th>\n",
       "      <th>B_1010</th>\n",
       "      <th>B_105</th>\n",
       "      <th>B_108</th>\n",
       "      <th>B_10th</th>\n",
       "      <th>...</th>\n",
       "      <th>B_zoey</th>\n",
       "      <th>B_zombie</th>\n",
       "      <th>B_zombies</th>\n",
       "      <th>B_zonday</th>\n",
       "      <th>B_zoo</th>\n",
       "      <th>B_zoom</th>\n",
       "      <th>B_zsaszs</th>\n",
       "      <th>B_zuckerberg</th>\n",
       "      <th>B_zuckerbergs</th>\n",
       "      <th>B_zynga</th>\n",
       "    </tr>\n",
       "  </thead>\n",
       "  <tbody>\n",
       "    <tr>\n",
       "      <th>0</th>\n",
       "      <td>0</td>\n",
       "      <td>0</td>\n",
       "      <td>0</td>\n",
       "      <td>0</td>\n",
       "      <td>0</td>\n",
       "      <td>0</td>\n",
       "      <td>0</td>\n",
       "      <td>0</td>\n",
       "      <td>0</td>\n",
       "      <td>0</td>\n",
       "      <td>...</td>\n",
       "      <td>0</td>\n",
       "      <td>0</td>\n",
       "      <td>0</td>\n",
       "      <td>0</td>\n",
       "      <td>0</td>\n",
       "      <td>0</td>\n",
       "      <td>0</td>\n",
       "      <td>0</td>\n",
       "      <td>0</td>\n",
       "      <td>0</td>\n",
       "    </tr>\n",
       "    <tr>\n",
       "      <th>1</th>\n",
       "      <td>0</td>\n",
       "      <td>0</td>\n",
       "      <td>0</td>\n",
       "      <td>0</td>\n",
       "      <td>0</td>\n",
       "      <td>0</td>\n",
       "      <td>0</td>\n",
       "      <td>0</td>\n",
       "      <td>0</td>\n",
       "      <td>0</td>\n",
       "      <td>...</td>\n",
       "      <td>0</td>\n",
       "      <td>0</td>\n",
       "      <td>0</td>\n",
       "      <td>0</td>\n",
       "      <td>0</td>\n",
       "      <td>0</td>\n",
       "      <td>0</td>\n",
       "      <td>0</td>\n",
       "      <td>0</td>\n",
       "      <td>0</td>\n",
       "    </tr>\n",
       "    <tr>\n",
       "      <th>2</th>\n",
       "      <td>0</td>\n",
       "      <td>0</td>\n",
       "      <td>0</td>\n",
       "      <td>0</td>\n",
       "      <td>0</td>\n",
       "      <td>0</td>\n",
       "      <td>0</td>\n",
       "      <td>0</td>\n",
       "      <td>0</td>\n",
       "      <td>0</td>\n",
       "      <td>...</td>\n",
       "      <td>0</td>\n",
       "      <td>0</td>\n",
       "      <td>0</td>\n",
       "      <td>0</td>\n",
       "      <td>0</td>\n",
       "      <td>0</td>\n",
       "      <td>0</td>\n",
       "      <td>0</td>\n",
       "      <td>0</td>\n",
       "      <td>0</td>\n",
       "    </tr>\n",
       "    <tr>\n",
       "      <th>3</th>\n",
       "      <td>0</td>\n",
       "      <td>0</td>\n",
       "      <td>0</td>\n",
       "      <td>0</td>\n",
       "      <td>0</td>\n",
       "      <td>0</td>\n",
       "      <td>0</td>\n",
       "      <td>0</td>\n",
       "      <td>0</td>\n",
       "      <td>0</td>\n",
       "      <td>...</td>\n",
       "      <td>0</td>\n",
       "      <td>0</td>\n",
       "      <td>0</td>\n",
       "      <td>0</td>\n",
       "      <td>0</td>\n",
       "      <td>0</td>\n",
       "      <td>0</td>\n",
       "      <td>0</td>\n",
       "      <td>0</td>\n",
       "      <td>0</td>\n",
       "    </tr>\n",
       "    <tr>\n",
       "      <th>4</th>\n",
       "      <td>0</td>\n",
       "      <td>0</td>\n",
       "      <td>0</td>\n",
       "      <td>0</td>\n",
       "      <td>0</td>\n",
       "      <td>0</td>\n",
       "      <td>0</td>\n",
       "      <td>0</td>\n",
       "      <td>0</td>\n",
       "      <td>0</td>\n",
       "      <td>...</td>\n",
       "      <td>0</td>\n",
       "      <td>0</td>\n",
       "      <td>0</td>\n",
       "      <td>0</td>\n",
       "      <td>0</td>\n",
       "      <td>0</td>\n",
       "      <td>0</td>\n",
       "      <td>0</td>\n",
       "      <td>0</td>\n",
       "      <td>0</td>\n",
       "    </tr>\n",
       "  </tbody>\n",
       "</table>\n",
       "<p>5 rows × 9469 columns</p>\n",
       "</div>"
      ],
      "text/plain": [
       "   B_1  B_10  B_100  B_1000  B_100000  B_101  B_1010  B_105  B_108  B_10th  \\\n",
       "0    0     0      0       0         0      0       0      0      0       0   \n",
       "1    0     0      0       0         0      0       0      0      0       0   \n",
       "2    0     0      0       0         0      0       0      0      0       0   \n",
       "3    0     0      0       0         0      0       0      0      0       0   \n",
       "4    0     0      0       0         0      0       0      0      0       0   \n",
       "\n",
       "   ...  B_zoey  B_zombie  B_zombies  B_zonday  B_zoo  B_zoom  B_zsaszs  \\\n",
       "0  ...       0         0          0         0      0       0         0   \n",
       "1  ...       0         0          0         0      0       0         0   \n",
       "2  ...       0         0          0         0      0       0         0   \n",
       "3  ...       0         0          0         0      0       0         0   \n",
       "4  ...       0         0          0         0      0       0         0   \n",
       "\n",
       "   B_zuckerberg  B_zuckerbergs  B_zynga  \n",
       "0             0              0        0  \n",
       "1             0              0        0  \n",
       "2             0              0        0  \n",
       "3             0              0        0  \n",
       "4             0              0        0  \n",
       "\n",
       "[5 rows x 9469 columns]"
      ]
     },
     "execution_count": 54,
     "metadata": {},
     "output_type": "execute_result"
    }
   ],
   "source": [
    "# one hot encoding \n",
    "dfB =pd.get_dummies(dataB)\n",
    "dfB.head()"
   ]
  },
  {
   "cell_type": "code",
   "execution_count": 55,
   "metadata": {},
   "outputs": [
    {
     "data": {
      "text/plain": [
       "((39643, 1),\n",
       "            C\n",
       " 0      video\n",
       " 1  sponsored\n",
       " 2    billion\n",
       " 3       dame\n",
       " 4      verse,\n",
       " C    object\n",
       " dtype: object)"
      ]
     },
     "execution_count": 55,
     "metadata": {},
     "output_type": "execute_result"
    }
   ],
   "source": [
    "dataC.shape , dataC.head() , dataC.dtypes"
   ]
  },
  {
   "cell_type": "code",
   "execution_count": 56,
   "metadata": {},
   "outputs": [
    {
     "data": {
      "text/html": [
       "<div>\n",
       "<style scoped>\n",
       "    .dataframe tbody tr th:only-of-type {\n",
       "        vertical-align: middle;\n",
       "    }\n",
       "\n",
       "    .dataframe tbody tr th {\n",
       "        vertical-align: top;\n",
       "    }\n",
       "\n",
       "    .dataframe thead th {\n",
       "        text-align: right;\n",
       "    }\n",
       "</style>\n",
       "<table border=\"1\" class=\"dataframe\">\n",
       "  <thead>\n",
       "    <tr style=\"text-align: right;\">\n",
       "      <th></th>\n",
       "      <th>C_0</th>\n",
       "      <th>C_1</th>\n",
       "      <th>C_10</th>\n",
       "      <th>C_100</th>\n",
       "      <th>C_1000</th>\n",
       "      <th>C_1000000</th>\n",
       "      <th>C_100th</th>\n",
       "      <th>C_101</th>\n",
       "      <th>C_1020</th>\n",
       "      <th>C_109</th>\n",
       "      <th>...</th>\n",
       "      <th>C_zombies</th>\n",
       "      <th>C_zonday</th>\n",
       "      <th>C_zone</th>\n",
       "      <th>C_zoning</th>\n",
       "      <th>C_zoo</th>\n",
       "      <th>C_zooeyes</th>\n",
       "      <th>C_zoom</th>\n",
       "      <th>C_zr</th>\n",
       "      <th>C_zuckerberg</th>\n",
       "      <th>C_zz</th>\n",
       "    </tr>\n",
       "  </thead>\n",
       "  <tbody>\n",
       "    <tr>\n",
       "      <th>0</th>\n",
       "      <td>0</td>\n",
       "      <td>0</td>\n",
       "      <td>0</td>\n",
       "      <td>0</td>\n",
       "      <td>0</td>\n",
       "      <td>0</td>\n",
       "      <td>0</td>\n",
       "      <td>0</td>\n",
       "      <td>0</td>\n",
       "      <td>0</td>\n",
       "      <td>...</td>\n",
       "      <td>0</td>\n",
       "      <td>0</td>\n",
       "      <td>0</td>\n",
       "      <td>0</td>\n",
       "      <td>0</td>\n",
       "      <td>0</td>\n",
       "      <td>0</td>\n",
       "      <td>0</td>\n",
       "      <td>0</td>\n",
       "      <td>0</td>\n",
       "    </tr>\n",
       "    <tr>\n",
       "      <th>1</th>\n",
       "      <td>0</td>\n",
       "      <td>0</td>\n",
       "      <td>0</td>\n",
       "      <td>0</td>\n",
       "      <td>0</td>\n",
       "      <td>0</td>\n",
       "      <td>0</td>\n",
       "      <td>0</td>\n",
       "      <td>0</td>\n",
       "      <td>0</td>\n",
       "      <td>...</td>\n",
       "      <td>0</td>\n",
       "      <td>0</td>\n",
       "      <td>0</td>\n",
       "      <td>0</td>\n",
       "      <td>0</td>\n",
       "      <td>0</td>\n",
       "      <td>0</td>\n",
       "      <td>0</td>\n",
       "      <td>0</td>\n",
       "      <td>0</td>\n",
       "    </tr>\n",
       "    <tr>\n",
       "      <th>2</th>\n",
       "      <td>0</td>\n",
       "      <td>0</td>\n",
       "      <td>0</td>\n",
       "      <td>0</td>\n",
       "      <td>0</td>\n",
       "      <td>0</td>\n",
       "      <td>0</td>\n",
       "      <td>0</td>\n",
       "      <td>0</td>\n",
       "      <td>0</td>\n",
       "      <td>...</td>\n",
       "      <td>0</td>\n",
       "      <td>0</td>\n",
       "      <td>0</td>\n",
       "      <td>0</td>\n",
       "      <td>0</td>\n",
       "      <td>0</td>\n",
       "      <td>0</td>\n",
       "      <td>0</td>\n",
       "      <td>0</td>\n",
       "      <td>0</td>\n",
       "    </tr>\n",
       "    <tr>\n",
       "      <th>3</th>\n",
       "      <td>0</td>\n",
       "      <td>0</td>\n",
       "      <td>0</td>\n",
       "      <td>0</td>\n",
       "      <td>0</td>\n",
       "      <td>0</td>\n",
       "      <td>0</td>\n",
       "      <td>0</td>\n",
       "      <td>0</td>\n",
       "      <td>0</td>\n",
       "      <td>...</td>\n",
       "      <td>0</td>\n",
       "      <td>0</td>\n",
       "      <td>0</td>\n",
       "      <td>0</td>\n",
       "      <td>0</td>\n",
       "      <td>0</td>\n",
       "      <td>0</td>\n",
       "      <td>0</td>\n",
       "      <td>0</td>\n",
       "      <td>0</td>\n",
       "    </tr>\n",
       "    <tr>\n",
       "      <th>4</th>\n",
       "      <td>0</td>\n",
       "      <td>0</td>\n",
       "      <td>0</td>\n",
       "      <td>0</td>\n",
       "      <td>0</td>\n",
       "      <td>0</td>\n",
       "      <td>0</td>\n",
       "      <td>0</td>\n",
       "      <td>0</td>\n",
       "      <td>0</td>\n",
       "      <td>...</td>\n",
       "      <td>0</td>\n",
       "      <td>0</td>\n",
       "      <td>0</td>\n",
       "      <td>0</td>\n",
       "      <td>0</td>\n",
       "      <td>0</td>\n",
       "      <td>0</td>\n",
       "      <td>0</td>\n",
       "      <td>0</td>\n",
       "      <td>0</td>\n",
       "    </tr>\n",
       "  </tbody>\n",
       "</table>\n",
       "<p>5 rows × 8776 columns</p>\n",
       "</div>"
      ],
      "text/plain": [
       "   C_0  C_1  C_10  C_100  C_1000  C_1000000  C_100th  C_101  C_1020  C_109  \\\n",
       "0    0    0     0      0       0          0        0      0       0      0   \n",
       "1    0    0     0      0       0          0        0      0       0      0   \n",
       "2    0    0     0      0       0          0        0      0       0      0   \n",
       "3    0    0     0      0       0          0        0      0       0      0   \n",
       "4    0    0     0      0       0          0        0      0       0      0   \n",
       "\n",
       "   ...  C_zombies  C_zonday  C_zone  C_zoning  C_zoo  C_zooeyes  C_zoom  C_zr  \\\n",
       "0  ...          0         0       0         0      0          0       0     0   \n",
       "1  ...          0         0       0         0      0          0       0     0   \n",
       "2  ...          0         0       0         0      0          0       0     0   \n",
       "3  ...          0         0       0         0      0          0       0     0   \n",
       "4  ...          0         0       0         0      0          0       0     0   \n",
       "\n",
       "   C_zuckerberg  C_zz  \n",
       "0             0     0  \n",
       "1             0     0  \n",
       "2             0     0  \n",
       "3             0     0  \n",
       "4             0     0  \n",
       "\n",
       "[5 rows x 8776 columns]"
      ]
     },
     "execution_count": 56,
     "metadata": {},
     "output_type": "execute_result"
    }
   ],
   "source": [
    "# one hot encoding \n",
    "dfC =pd.get_dummies(dataC)\n",
    "dfC.head()"
   ]
  },
  {
   "cell_type": "code",
   "execution_count": 57,
   "metadata": {},
   "outputs": [
    {
     "data": {
      "text/plain": [
       "((39643, 1),\n",
       "          D\n",
       " 0  browser\n",
       " 1   tweets\n",
       " 2      app\n",
       " 3      bcs\n",
       " 4     apps,\n",
       " D    object\n",
       " dtype: object)"
      ]
     },
     "execution_count": 57,
     "metadata": {},
     "output_type": "execute_result"
    }
   ],
   "source": [
    "dataD.shape , dataD.head() , dataD.dtypes"
   ]
  },
  {
   "cell_type": "code",
   "execution_count": 58,
   "metadata": {},
   "outputs": [
    {
     "data": {
      "text/html": [
       "<div>\n",
       "<style scoped>\n",
       "    .dataframe tbody tr th:only-of-type {\n",
       "        vertical-align: middle;\n",
       "    }\n",
       "\n",
       "    .dataframe tbody tr th {\n",
       "        vertical-align: top;\n",
       "    }\n",
       "\n",
       "    .dataframe thead th {\n",
       "        text-align: right;\n",
       "    }\n",
       "</style>\n",
       "<table border=\"1\" class=\"dataframe\">\n",
       "  <thead>\n",
       "    <tr style=\"text-align: right;\">\n",
       "      <th></th>\n",
       "      <th>D_0</th>\n",
       "      <th>D_1</th>\n",
       "      <th>D_10</th>\n",
       "      <th>D_100</th>\n",
       "      <th>D_1000</th>\n",
       "      <th>D_101</th>\n",
       "      <th>D_104</th>\n",
       "      <th>D_10c</th>\n",
       "      <th>D_11</th>\n",
       "      <th>D_110</th>\n",
       "      <th>...</th>\n",
       "      <th>D_zombies</th>\n",
       "      <th>D_zombify</th>\n",
       "      <th>D_zonday</th>\n",
       "      <th>D_zone</th>\n",
       "      <th>D_zones</th>\n",
       "      <th>D_zoo</th>\n",
       "      <th>D_zooey</th>\n",
       "      <th>D_zoom</th>\n",
       "      <th>D_zuckerberg</th>\n",
       "      <th>D_zynga</th>\n",
       "    </tr>\n",
       "  </thead>\n",
       "  <tbody>\n",
       "    <tr>\n",
       "      <th>0</th>\n",
       "      <td>0</td>\n",
       "      <td>0</td>\n",
       "      <td>0</td>\n",
       "      <td>0</td>\n",
       "      <td>0</td>\n",
       "      <td>0</td>\n",
       "      <td>0</td>\n",
       "      <td>0</td>\n",
       "      <td>0</td>\n",
       "      <td>0</td>\n",
       "      <td>...</td>\n",
       "      <td>0</td>\n",
       "      <td>0</td>\n",
       "      <td>0</td>\n",
       "      <td>0</td>\n",
       "      <td>0</td>\n",
       "      <td>0</td>\n",
       "      <td>0</td>\n",
       "      <td>0</td>\n",
       "      <td>0</td>\n",
       "      <td>0</td>\n",
       "    </tr>\n",
       "    <tr>\n",
       "      <th>1</th>\n",
       "      <td>0</td>\n",
       "      <td>0</td>\n",
       "      <td>0</td>\n",
       "      <td>0</td>\n",
       "      <td>0</td>\n",
       "      <td>0</td>\n",
       "      <td>0</td>\n",
       "      <td>0</td>\n",
       "      <td>0</td>\n",
       "      <td>0</td>\n",
       "      <td>...</td>\n",
       "      <td>0</td>\n",
       "      <td>0</td>\n",
       "      <td>0</td>\n",
       "      <td>0</td>\n",
       "      <td>0</td>\n",
       "      <td>0</td>\n",
       "      <td>0</td>\n",
       "      <td>0</td>\n",
       "      <td>0</td>\n",
       "      <td>0</td>\n",
       "    </tr>\n",
       "    <tr>\n",
       "      <th>2</th>\n",
       "      <td>0</td>\n",
       "      <td>0</td>\n",
       "      <td>0</td>\n",
       "      <td>0</td>\n",
       "      <td>0</td>\n",
       "      <td>0</td>\n",
       "      <td>0</td>\n",
       "      <td>0</td>\n",
       "      <td>0</td>\n",
       "      <td>0</td>\n",
       "      <td>...</td>\n",
       "      <td>0</td>\n",
       "      <td>0</td>\n",
       "      <td>0</td>\n",
       "      <td>0</td>\n",
       "      <td>0</td>\n",
       "      <td>0</td>\n",
       "      <td>0</td>\n",
       "      <td>0</td>\n",
       "      <td>0</td>\n",
       "      <td>0</td>\n",
       "    </tr>\n",
       "    <tr>\n",
       "      <th>3</th>\n",
       "      <td>0</td>\n",
       "      <td>0</td>\n",
       "      <td>0</td>\n",
       "      <td>0</td>\n",
       "      <td>0</td>\n",
       "      <td>0</td>\n",
       "      <td>0</td>\n",
       "      <td>0</td>\n",
       "      <td>0</td>\n",
       "      <td>0</td>\n",
       "      <td>...</td>\n",
       "      <td>0</td>\n",
       "      <td>0</td>\n",
       "      <td>0</td>\n",
       "      <td>0</td>\n",
       "      <td>0</td>\n",
       "      <td>0</td>\n",
       "      <td>0</td>\n",
       "      <td>0</td>\n",
       "      <td>0</td>\n",
       "      <td>0</td>\n",
       "    </tr>\n",
       "    <tr>\n",
       "      <th>4</th>\n",
       "      <td>0</td>\n",
       "      <td>0</td>\n",
       "      <td>0</td>\n",
       "      <td>0</td>\n",
       "      <td>0</td>\n",
       "      <td>0</td>\n",
       "      <td>0</td>\n",
       "      <td>0</td>\n",
       "      <td>0</td>\n",
       "      <td>0</td>\n",
       "      <td>...</td>\n",
       "      <td>0</td>\n",
       "      <td>0</td>\n",
       "      <td>0</td>\n",
       "      <td>0</td>\n",
       "      <td>0</td>\n",
       "      <td>0</td>\n",
       "      <td>0</td>\n",
       "      <td>0</td>\n",
       "      <td>0</td>\n",
       "      <td>0</td>\n",
       "    </tr>\n",
       "  </tbody>\n",
       "</table>\n",
       "<p>5 rows × 6608 columns</p>\n",
       "</div>"
      ],
      "text/plain": [
       "   D_0  D_1  D_10  D_100  D_1000  D_101  D_104  D_10c  D_11  D_110  ...  \\\n",
       "0    0    0     0      0       0      0      0      0     0      0  ...   \n",
       "1    0    0     0      0       0      0      0      0     0      0  ...   \n",
       "2    0    0     0      0       0      0      0      0     0      0  ...   \n",
       "3    0    0     0      0       0      0      0      0     0      0  ...   \n",
       "4    0    0     0      0       0      0      0      0     0      0  ...   \n",
       "\n",
       "   D_zombies  D_zombify  D_zonday  D_zone  D_zones  D_zoo  D_zooey  D_zoom  \\\n",
       "0          0          0         0       0        0      0        0       0   \n",
       "1          0          0         0       0        0      0        0       0   \n",
       "2          0          0         0       0        0      0        0       0   \n",
       "3          0          0         0       0        0      0        0       0   \n",
       "4          0          0         0       0        0      0        0       0   \n",
       "\n",
       "   D_zuckerberg  D_zynga  \n",
       "0             0        0  \n",
       "1             0        0  \n",
       "2             0        0  \n",
       "3             0        0  \n",
       "4             0        0  \n",
       "\n",
       "[5 rows x 6608 columns]"
      ]
     },
     "execution_count": 58,
     "metadata": {},
     "output_type": "execute_result"
    }
   ],
   "source": [
    "dfD =pd.get_dummies(dataD)\n",
    "dfD.head()"
   ]
  },
  {
   "cell_type": "code",
   "execution_count": 67,
   "metadata": {},
   "outputs": [
    {
     "data": {
      "text/plain": [
       "(39643, 14)"
      ]
     },
     "execution_count": 67,
     "metadata": {},
     "output_type": "execute_result"
    }
   ],
   "source": [
    "DF_2 = df[[\"data_channel_is_lifestyle\",\n",
    "       \"data_channel_is_entertainment\", \"data_channel_is_bus\",\n",
    "       \"data_channel_is_socmed\", \"data_channel_is_tech\",\n",
    "       \"data_channel_is_world\",\"weekday_is_monday\", \"weekday_is_tuesday\",\n",
    "       \"weekday_is_wednesday\", \"weekday_is_thursday\", \"weekday_is_friday\",\n",
    "       \"weekday_is_saturday\", \"weekday_is_sunday\", \"is_weekend\"] ]\n",
    "DF_2.shape"
   ]
  },
  {
   "cell_type": "code",
   "execution_count": 72,
   "metadata": {},
   "outputs": [
    {
     "data": {
      "text/plain": [
       "(39643, 45)"
      ]
     },
     "execution_count": 72,
     "metadata": {},
     "output_type": "execute_result"
    }
   ],
   "source": [
    "from sklearn.preprocessing  import StandardScaler\n",
    "\n",
    "features = df.drop(columns = [\"url\",\"data_channel_is_lifestyle\",\n",
    "       \"data_channel_is_entertainment\", \"data_channel_is_bus\",\n",
    "       \"data_channel_is_socmed\", \"data_channel_is_tech\",\n",
    "       \"data_channel_is_world\",\"weekday_is_monday\", \"weekday_is_tuesday\",\n",
    "       \"weekday_is_wednesday\", \"weekday_is_thursday\", \"weekday_is_friday\",\n",
    "       \"weekday_is_saturday\", \"weekday_is_sunday\", \"is_weekend\",\"shares\"] )\n",
    "\n",
    "ss = StandardScaler()\n",
    "features_scaled = ss.fit_transform(features)\n",
    "DF_3 = pd.DataFrame(features_scaled, columns =['timedelta', 'n_tokens_title', 'n_tokens_content',\n",
    "       'n_unique_tokens', 'n_non_stop_words', 'n_non_stop_unique_tokens',\n",
    "       'num_herfs', 'num_self_herfs', 'num_imgs', 'num_videos',\n",
    "       'average_token_length', 'num_keywords', 'kw_min_min', 'kw_max_min', 'kw_avg_min',\n",
    "       'kw_min_max', 'kw_max_max', 'kw_avg_max', 'kw_min_avg', 'kw_max_avg',\n",
    "       'kw_avg_avg', 'self_reference_min_shares', 'self_reference_max_shares',\n",
    "       'self_reference_avg_shares', 'LDA_00',\n",
    "       'LDA_01', 'LDA_02', 'LDA_03', 'LDA_04', 'global_subjectivity',\n",
    "       'global_sentiment_polarity', 'global_rate_postive_words',\n",
    "       'global_rate_negative_words', 'rate_postive_words',\n",
    "       'rate_negative_words', 'avg_postive_polarity', 'min_postive_polarity',\n",
    "       'max_postive_polarity', 'avg_negative_polarity',\n",
    "       'min_negative_polarity', 'max_negative_polarity', 'title_subjectivity',\n",
    "       'title_sentiment_polarity', 'abs_title_subjectivity',\n",
    "       'abs_title_sentiment_polarity'])\n",
    "DF_3.shape"
   ]
  },
  {
   "cell_type": "code",
   "execution_count": 79,
   "metadata": {},
   "outputs": [],
   "source": [
    "# Target Feature\n",
    "s = df.shares\n",
    "# q cut  quantile instead of number of bins\n",
    "DF_target = pd.qcut(df.shares,q=5, labels= False)"
   ]
  },
  {
   "cell_type": "markdown",
   "metadata": {},
   "source": [
    "# Dropping constant features"
   ]
  },
  {
   "cell_type": "code",
   "execution_count": 62,
   "metadata": {},
   "outputs": [
    {
     "name": "stdout",
     "output_type": "stream",
     "text": [
      "0\n"
     ]
    }
   ],
   "source": [
    "#df_1\n",
    "from sklearn.feature_selection import VarianceThreshold\n",
    "var_thres=VarianceThreshold(threshold=0.0099)\n",
    "var_thres.fit(df1)\n",
    "df1.columns[var_thres.get_support()]\n",
    "constant_columns = [column for column in df1.columns\n",
    "                    if column not in df1.columns[var_thres.get_support()]]\n",
    "\n",
    "print(len(constant_columns))\n",
    "for feature in constant_columns:\n",
    "     print(feature)\n",
    "df1 = df1.drop(constant_columns,axis=1)\n"
   ]
  },
  {
   "cell_type": "code",
   "execution_count": 63,
   "metadata": {},
   "outputs": [
    {
     "name": "stdout",
     "output_type": "stream",
     "text": [
      "0\n"
     ]
    }
   ],
   "source": [
    "#dfA\n",
    "from sklearn.feature_selection import VarianceThreshold\n",
    "var_thres=VarianceThreshold(threshold=0.0099)\n",
    "var_thres.fit(dfA)\n",
    "dfA.columns[var_thres.get_support()]\n",
    "constant_columns = [column for column in dfA.columns\n",
    "                    if column not in dfA.columns[var_thres.get_support()]]\n",
    "\n",
    "print(len(constant_columns))\n",
    "dfA =dfA.drop(constant_columns,axis=1)"
   ]
  },
  {
   "cell_type": "code",
   "execution_count": 64,
   "metadata": {},
   "outputs": [
    {
     "name": "stdout",
     "output_type": "stream",
     "text": [
      "9468\n"
     ]
    }
   ],
   "source": [
    "#dfB\n",
    "from sklearn.feature_selection import VarianceThreshold\n",
    "var_thres=VarianceThreshold(threshold=0.0099)\n",
    "var_thres.fit(dfB)\n",
    "dfB.columns[var_thres.get_support()]\n",
    "constant_columns = [column for column in dfB.columns\n",
    "                    if column not in dfB.columns[var_thres.get_support()]]\n",
    "\n",
    "print(len(constant_columns))\n",
    "dfB =dfB.drop(constant_columns,axis=1)\n"
   ]
  },
  {
   "cell_type": "code",
   "execution_count": 65,
   "metadata": {},
   "outputs": [
    {
     "name": "stdout",
     "output_type": "stream",
     "text": [
      "8772\n"
     ]
    }
   ],
   "source": [
    "#dfC\n",
    "from sklearn.feature_selection import VarianceThreshold\n",
    "var_thres=VarianceThreshold(threshold=(0.995*(1-0.995)))\n",
    "var_thres.fit(dfC)\n",
    "dfC.columns[var_thres.get_support()]\n",
    "constant_columns = [column for column in dfC.columns\n",
    "                    if column not in dfC.columns[var_thres.get_support()]]\n",
    "\n",
    "print(len(constant_columns))\n",
    "dfC =dfC.drop(constant_columns,axis=1)\n"
   ]
  },
  {
   "cell_type": "code",
   "execution_count": 66,
   "metadata": {},
   "outputs": [
    {
     "name": "stdout",
     "output_type": "stream",
     "text": [
      "6607\n"
     ]
    }
   ],
   "source": [
    "#dfD\n",
    "from sklearn.feature_selection import VarianceThreshold\n",
    "var_thres=VarianceThreshold(threshold=(0.995*(1-0.995)))\n",
    "var_thres.fit(dfD)\n",
    "dfD.columns[var_thres.get_support()]\n",
    "constant_columns = [column for column in dfD.columns\n",
    "                    if column not in dfD.columns[var_thres.get_support()]]\n",
    "\n",
    "print(len(constant_columns))\n",
    "dfD =dfD.drop(constant_columns,axis=1)\n"
   ]
  },
  {
   "cell_type": "code",
   "execution_count": 75,
   "metadata": {},
   "outputs": [
    {
     "name": "stdout",
     "output_type": "stream",
     "text": [
      "0\n"
     ]
    }
   ],
   "source": [
    "from sklearn.feature_selection import VarianceThreshold\n",
    "var_thres=VarianceThreshold(threshold=0.99*(1-0.99))\n",
    "var_thres.fit(DF_2)\n",
    "DF_2.columns[var_thres.get_support()]\n",
    "constant_columns = [column for column in DF_2.columns\n",
    "                    if column not in DF_2.columns[var_thres.get_support()]]\n",
    "\n",
    "print(len(constant_columns))\n",
    "constant_columns = [column for column in DF_2.columns\n",
    "                    if column not in DF_2.columns[var_thres.get_support()]]\n",
    "\n",
    "DF_2 = DF_2.drop(constant_columns,axis=1)"
   ]
  },
  {
   "cell_type": "code",
   "execution_count": 77,
   "metadata": {},
   "outputs": [
    {
     "name": "stdout",
     "output_type": "stream",
     "text": [
      "0\n"
     ]
    }
   ],
   "source": [
    "from sklearn.feature_selection import VarianceThreshold\n",
    "var_thres=VarianceThreshold(threshold=0.99*(1-0.99))\n",
    "var_thres.fit(DF_3)\n",
    "DF_3.columns[var_thres.get_support()]\n",
    "constant_columns = [column for column in DF_3.columns\n",
    "                    if column not in DF_3.columns[var_thres.get_support()]]\n",
    "\n",
    "print(len(constant_columns))\n",
    "DF_3 = DF_3.drop(constant_columns,axis=1)"
   ]
  },
  {
   "cell_type": "code",
   "execution_count": 44,
   "metadata": {},
   "outputs": [
    {
     "data": {
      "text/plain": [
       "(39643, 54)"
      ]
     },
     "execution_count": 44,
     "metadata": {},
     "output_type": "execute_result"
    }
   ],
   "source": [
    "DF1 = pd.concat([df1,dfA,dfC,dfD], axis =1)\n",
    "DF1.shape"
   ]
  },
  {
   "cell_type": "code",
   "execution_count": 81,
   "metadata": {},
   "outputs": [
    {
     "data": {
      "text/plain": [
       "(39643, 114)"
      ]
     },
     "execution_count": 81,
     "metadata": {},
     "output_type": "execute_result"
    }
   ],
   "source": [
    "DF = pd.concat([DF1,DF_2,DF_3,DF_target], axis =1)\n",
    "DF.to_csv('DF.csv')\n",
    "DF.shape"
   ]
  },
  {
   "cell_type": "markdown",
   "metadata": {},
   "source": [
    "#Further Feature Importance using Treebased Algorithms, DTC,RFC,ETC"
   ]
  },
  {
   "cell_type": "code",
   "execution_count": 87,
   "metadata": {},
   "outputs": [],
   "source": [
    "import pandas as pd \n",
    "import numpy as np\n",
    "import matplotlib.pyplot as plt\n",
    "from sklearn.tree import DecisionTreeClassifier\n",
    "from sklearn.ensemble import RandomForestClassifier\n",
    "from sklearn.feature_selection import RFE,SelectFromModel\n",
    "from sklearn.model_selection import train_test_split\n",
    "from sklearn import metrics\n",
    "import seaborn as sns "
   ]
  },
  {
   "cell_type": "code",
   "execution_count": 88,
   "metadata": {},
   "outputs": [],
   "source": [
    "X = DF.drop(\"shares\",axis=1)   #Feature Matrix\n",
    "y = DF[\"shares\"]\n",
    "X_train,X_test,y_train,y_test = train_test_split(X,y,random_state = 10,test_size =0.30)"
   ]
  },
  {
   "cell_type": "code",
   "execution_count": 90,
   "metadata": {},
   "outputs": [
    {
     "name": "stdout",
     "output_type": "stream",
     "text": [
      "0.2527537206760279\n",
      "0.3202724291600101\n",
      "0.31716135541915413\n"
     ]
    }
   ],
   "source": [
    "dt_w =DecisionTreeClassifier()\n",
    "dt_w.fit(X_train, y_train)\n",
    "y_pred_dt_w = dt_w.predict(X_test)\n",
    "metrics.accuracy_score(y_test,y_pred_dt_w)\n",
    "print(metrics.accuracy_score(y_test,y_pred_dt_w))\n",
    "\n",
    "rf_w = RandomForestClassifier(random_state=42)\n",
    "rf_w.fit(X_train, y_train)\n",
    "y_pred_rf_w = rf_w.predict(X_test)\n",
    "metrics.accuracy_score(y_test,y_pred_rf_w)\n",
    "print(metrics.accuracy_score(y_test,y_pred_rf_w))\n",
    "      \n",
    "from sklearn.ensemble import ExtraTreesClassifier\n",
    "et_w = ExtraTreesClassifier(random_state=42)\n",
    "et_w.fit(X_train, y_train)\n",
    "y_pred_et_w = et_w.predict(X_test)\n",
    "print(metrics.accuracy_score(y_test,y_pred_et_w))"
   ]
  },
  {
   "cell_type": "code",
   "execution_count": 91,
   "metadata": {},
   "outputs": [
    {
     "name": "stdout",
     "output_type": "stream",
     "text": [
      "# Tuning hyper-parameters for precision\n",
      "\n",
      "Best parameters set found on development set:\n",
      "\n",
      "{'max_depth': 40, 'min_samples_split': 300, 'n_estimators': 150}\n",
      "\n",
      "Grid scores on development set:\n",
      "\n",
      "0.306 (+/-0.018) for {'max_depth': 25, 'min_samples_split': 300, 'n_estimators': 25}\n",
      "0.313 (+/-0.023) for {'max_depth': 25, 'min_samples_split': 300, 'n_estimators': 80}\n",
      "0.316 (+/-0.018) for {'max_depth': 25, 'min_samples_split': 300, 'n_estimators': 150}\n",
      "0.310 (+/-0.013) for {'max_depth': 25, 'min_samples_split': 600, 'n_estimators': 25}\n",
      "0.312 (+/-0.011) for {'max_depth': 25, 'min_samples_split': 600, 'n_estimators': 80}\n",
      "0.310 (+/-0.016) for {'max_depth': 25, 'min_samples_split': 600, 'n_estimators': 150}\n",
      "0.310 (+/-0.009) for {'max_depth': 25, 'min_samples_split': 800, 'n_estimators': 25}\n",
      "0.312 (+/-0.015) for {'max_depth': 25, 'min_samples_split': 800, 'n_estimators': 80}\n",
      "0.310 (+/-0.025) for {'max_depth': 25, 'min_samples_split': 800, 'n_estimators': 150}\n",
      "0.313 (+/-0.012) for {'max_depth': 40, 'min_samples_split': 300, 'n_estimators': 25}\n",
      "0.312 (+/-0.016) for {'max_depth': 40, 'min_samples_split': 300, 'n_estimators': 80}\n",
      "0.317 (+/-0.015) for {'max_depth': 40, 'min_samples_split': 300, 'n_estimators': 150}\n",
      "0.309 (+/-0.012) for {'max_depth': 40, 'min_samples_split': 600, 'n_estimators': 25}\n",
      "0.311 (+/-0.013) for {'max_depth': 40, 'min_samples_split': 600, 'n_estimators': 80}\n",
      "0.314 (+/-0.018) for {'max_depth': 40, 'min_samples_split': 600, 'n_estimators': 150}\n",
      "0.310 (+/-0.020) for {'max_depth': 40, 'min_samples_split': 800, 'n_estimators': 25}\n",
      "0.310 (+/-0.018) for {'max_depth': 40, 'min_samples_split': 800, 'n_estimators': 80}\n",
      "0.311 (+/-0.022) for {'max_depth': 40, 'min_samples_split': 800, 'n_estimators': 150}\n",
      "\n",
      "Detailed classification report:\n",
      "\n",
      "The model is trained on the full development set.\n",
      "The scores are computed on the full evaluation set.\n",
      "\n",
      "              precision    recall  f1-score   support\n",
      "\n",
      "           0       0.41      0.49      0.44      2421\n",
      "           1       0.30      0.37      0.34      2633\n",
      "           2       0.27      0.10      0.15      2225\n",
      "           3       0.31      0.19      0.24      2244\n",
      "           4       0.34      0.52      0.41      2370\n",
      "\n",
      "    accuracy                           0.34     11893\n",
      "   macro avg       0.33      0.33      0.32     11893\n",
      "weighted avg       0.33      0.34      0.32     11893\n",
      "\n",
      "\n",
      "# Tuning hyper-parameters for recall\n",
      "\n",
      "Best parameters set found on development set:\n",
      "\n",
      "{'max_depth': 40, 'min_samples_split': 300, 'n_estimators': 80}\n",
      "\n",
      "Grid scores on development set:\n",
      "\n",
      "0.317 (+/-0.012) for {'max_depth': 25, 'min_samples_split': 300, 'n_estimators': 25}\n",
      "0.323 (+/-0.012) for {'max_depth': 25, 'min_samples_split': 300, 'n_estimators': 80}\n",
      "0.323 (+/-0.015) for {'max_depth': 25, 'min_samples_split': 300, 'n_estimators': 150}\n",
      "0.316 (+/-0.007) for {'max_depth': 25, 'min_samples_split': 600, 'n_estimators': 25}\n",
      "0.320 (+/-0.016) for {'max_depth': 25, 'min_samples_split': 600, 'n_estimators': 80}\n",
      "0.321 (+/-0.014) for {'max_depth': 25, 'min_samples_split': 600, 'n_estimators': 150}\n",
      "0.313 (+/-0.015) for {'max_depth': 25, 'min_samples_split': 800, 'n_estimators': 25}\n",
      "0.316 (+/-0.011) for {'max_depth': 25, 'min_samples_split': 800, 'n_estimators': 80}\n",
      "0.318 (+/-0.016) for {'max_depth': 25, 'min_samples_split': 800, 'n_estimators': 150}\n",
      "0.317 (+/-0.017) for {'max_depth': 40, 'min_samples_split': 300, 'n_estimators': 25}\n",
      "0.324 (+/-0.017) for {'max_depth': 40, 'min_samples_split': 300, 'n_estimators': 80}\n",
      "0.323 (+/-0.012) for {'max_depth': 40, 'min_samples_split': 300, 'n_estimators': 150}\n",
      "0.317 (+/-0.016) for {'max_depth': 40, 'min_samples_split': 600, 'n_estimators': 25}\n",
      "0.318 (+/-0.015) for {'max_depth': 40, 'min_samples_split': 600, 'n_estimators': 80}\n",
      "0.321 (+/-0.015) for {'max_depth': 40, 'min_samples_split': 600, 'n_estimators': 150}\n",
      "0.316 (+/-0.014) for {'max_depth': 40, 'min_samples_split': 800, 'n_estimators': 25}\n",
      "0.317 (+/-0.015) for {'max_depth': 40, 'min_samples_split': 800, 'n_estimators': 80}\n",
      "0.318 (+/-0.015) for {'max_depth': 40, 'min_samples_split': 800, 'n_estimators': 150}\n",
      "\n",
      "Detailed classification report:\n",
      "\n",
      "The model is trained on the full development set.\n",
      "The scores are computed on the full evaluation set.\n",
      "\n",
      "              precision    recall  f1-score   support\n",
      "\n",
      "           0       0.40      0.47      0.44      2421\n",
      "           1       0.30      0.37      0.33      2633\n",
      "           2       0.26      0.10      0.15      2225\n",
      "           3       0.29      0.18      0.22      2244\n",
      "           4       0.34      0.51      0.41      2370\n",
      "\n",
      "    accuracy                           0.33     11893\n",
      "   macro avg       0.32      0.33      0.31     11893\n",
      "weighted avg       0.32      0.33      0.31     11893\n",
      "\n",
      "\n"
     ]
    }
   ],
   "source": [
    "from sklearn.model_selection import GridSearchCV\n",
    "from sklearn.metrics import classification_report\n",
    "from sklearn.ensemble import RandomForestClassifier\n",
    "\n",
    "tuned_parameters = [{'n_estimators': [25,80,150],\n",
    "                     'max_depth': [25,40,],\n",
    "                     'min_samples_split': [300,600,800]}]\n",
    "\n",
    "scores = ['precision', 'recall']\n",
    "for score in scores:\n",
    "    print(\"# Tuning hyper-parameters for %s\" % score)\n",
    "    print()\n",
    "\n",
    "    clf_rf = GridSearchCV(RandomForestClassifier(), tuned_parameters, scoring='%s_macro' % score)\n",
    "    clf_rf.fit(X_train, y_train)\n",
    "    \n",
    "    print(\"Best parameters set found on development set:\")\n",
    "    print()\n",
    "    print(clf_rf.best_params_)\n",
    "    print()\n",
    "    print(\"Grid scores on development set:\")\n",
    "    print()\n",
    "    means = clf_rf.cv_results_['mean_test_score']\n",
    "    stds = clf_rf.cv_results_['std_test_score']\n",
    "    for mean, std, params in zip(means, stds, clf_rf.cv_results_['params']):\n",
    "        print(\"%0.3f (+/-%0.03f) for %r\"\n",
    "              % (mean, std * 2, params))\n",
    "    print()\n",
    "\n",
    "    print(\"Detailed classification report:\")\n",
    "    print()\n",
    "    print(\"The model is trained on the full development set.\")\n",
    "    print(\"The scores are computed on the full evaluation set.\")\n",
    "    print()\n",
    "    y_true, y_pred = y_test, clf_rf.predict(X_test)\n",
    "    print(classification_report(y_true, y_pred))\n",
    "    print()"
   ]
  },
  {
   "cell_type": "code",
   "execution_count": 92,
   "metadata": {},
   "outputs": [
    {
     "data": {
      "text/plain": [
       "0.3346506348272093"
      ]
     },
     "execution_count": 92,
     "metadata": {},
     "output_type": "execute_result"
    }
   ],
   "source": [
    "rf_w = RandomForestClassifier(random_state=42, n_estimators= 150,min_samples_split = 300 , max_depth = 40)\n",
    "rf_w.fit(X_train, y_train)\n",
    "y_pred_rf_w = rf_w.predict(X_test)\n",
    "metrics.accuracy_score(y_test,y_pred_rf_w)"
   ]
  },
  {
   "cell_type": "code",
   "execution_count": 93,
   "metadata": {},
   "outputs": [
    {
     "data": {
      "text/plain": [
       "<AxesSubplot:xlabel='Features', ylabel='Importances'>"
      ]
     },
     "execution_count": 93,
     "metadata": {},
     "output_type": "execute_result"
    },
    {
     "data": {
      "image/png": "[encoded data removed]",
      "text/plain": [
       "<Figure size 720x216 with 1 Axes>"
      ]
     },
     "metadata": {
      "needs_background": "light"
     },
     "output_type": "display_data"
    }
   ],
   "source": [
    "# get the importance of the resulting features.\n",
    "importances = rf_w.feature_importances_\n",
    "final_df = pd.DataFrame({\"Features\": X_train.columns, \"Importances\":importances})\n",
    "final_df.set_index('Importances')\n",
    "\n",
    "final_df = final_df.sort_values('Importances')\n",
    "\n",
    "plt.figure(figsize=(10,3))\n",
    "plt.xticks(rotation=45)\n",
    "sns.barplot(x=\"Features\",y= \"Importances\", data=final_df)"
   ]
  },
  {
   "cell_type": "code",
   "execution_count": 96,
   "metadata": {},
   "outputs": [
    {
     "name": "stdout",
     "output_type": "stream",
     "text": [
      "[False False False False False False False False False False False False\n",
      " False False False False False False False False False False False False\n",
      " False False False False False False False False False False False False\n",
      " False False False False False False False False False False False False\n",
      " False False False False False False False  True False  True  True  True\n",
      " False False False False False False False  True  True False  True  True\n",
      " False  True  True False  True False  True False False  True  True False\n",
      " False  True  True  True  True  True  True  True  True  True  True  True\n",
      "  True  True  True  True False False  True False False False False False\n",
      " False False False False False]\n",
      "[18 15 31 33 41 38 35 27 14 57 28 29 30 36 76 71 69 42 55 64 51 62 68 58\n",
      " 47 73 65 72 46 74 70 50 66 59 84 61 63 52 80 49 60 53 48 56 67 54 43 44\n",
      " 77 79 83 78 81 82 40  1 22  1  1  1 37 39 32 45 34  5 10  1  1 19  1  1\n",
      " 75  1  1 13  1 25  1 23  6  1  1  3  8  1  1  1  1  1  1  1  1  1  1  1\n",
      "  1  1  1  1  2  9  1  4 11 26  7 20 17 16 12 24 21]\n"
     ]
    },
    {
     "data": {
      "text/plain": [
       "0.3389388716051459"
      ]
     },
     "execution_count": 96,
     "metadata": {},
     "output_type": "execute_result"
    }
   ],
   "source": [
    "final_df.to_csv('featureimportance.csv')\n",
    "\n",
    "model_tree = RandomForestClassifier(random_state=42, n_estimators= 150,min_samples_split = 300 , max_depth = 40)\n",
    "# use RFE to eleminate the less importance features\n",
    "sel_rfe_tree = RFE(estimator=model_tree, n_features_to_select= 30, step=1)# select top7?? reason \n",
    "X_train_rfe_tree = sel_rfe_tree.fit_transform(X_train, y_train)\n",
    "print(sel_rfe_tree.get_support())\n",
    "print(sel_rfe_tree.ranking_)\n",
    "#Reduce X to the selected features and then predict using the predict\n",
    "y_pred_rf = sel_rfe_tree.predict(X_test)\n",
    "metrics.accuracy_score(y_test,y_pred_rf)"
   ]
  },
  {
   "cell_type": "code",
   "execution_count": 97,
   "metadata": {},
   "outputs": [
    {
     "data": {
      "text/plain": [
       "['data_channel_is_entertainment',\n",
       " 'data_channel_is_socmed',\n",
       " 'data_channel_is_tech',\n",
       " 'data_channel_is_world',\n",
       " 'is_weekend',\n",
       " 'timedelta',\n",
       " 'n_tokens_content',\n",
       " 'n_unique_tokens',\n",
       " 'n_non_stop_unique_tokens',\n",
       " 'num_herfs',\n",
       " 'num_imgs',\n",
       " 'average_token_length',\n",
       " 'kw_max_min',\n",
       " 'kw_avg_min',\n",
       " 'kw_avg_max',\n",
       " 'kw_min_avg',\n",
       " 'kw_max_avg',\n",
       " 'kw_avg_avg',\n",
       " 'self_reference_min_shares',\n",
       " 'self_reference_max_shares',\n",
       " 'self_reference_avg_shares',\n",
       " 'LDA_00',\n",
       " 'LDA_01',\n",
       " 'LDA_02',\n",
       " 'LDA_03',\n",
       " 'LDA_04',\n",
       " 'global_subjectivity',\n",
       " 'global_sentiment_polarity',\n",
       " 'global_rate_postive_words',\n",
       " 'rate_negative_words']"
      ]
     },
     "execution_count": 97,
     "metadata": {},
     "output_type": "execute_result"
    }
   ],
   "source": [
    "# find the number of selected features with the help of the following script:\n",
    "selected_cols_1= [column for column in X_train.columns if column in X_train.columns[sel_rfe_tree.get_support()]]\n",
    "selected_cols_1"
   ]
  },
  {
   "cell_type": "code",
   "execution_count": 98,
   "metadata": {},
   "outputs": [
    {
     "data": {
      "text/html": [
       "<div>\n",
       "<style scoped>\n",
       "    .dataframe tbody tr th:only-of-type {\n",
       "        vertical-align: middle;\n",
       "    }\n",
       "\n",
       "    .dataframe tbody tr th {\n",
       "        vertical-align: top;\n",
       "    }\n",
       "\n",
       "    .dataframe thead th {\n",
       "        text-align: right;\n",
       "    }\n",
       "</style>\n",
       "<table border=\"1\" class=\"dataframe\">\n",
       "  <thead>\n",
       "    <tr style=\"text-align: right;\">\n",
       "      <th></th>\n",
       "      <th>data_channel_is_entertainment</th>\n",
       "      <th>data_channel_is_socmed</th>\n",
       "      <th>data_channel_is_tech</th>\n",
       "      <th>data_channel_is_world</th>\n",
       "      <th>is_weekend</th>\n",
       "      <th>timedelta</th>\n",
       "      <th>n_tokens_content</th>\n",
       "      <th>n_unique_tokens</th>\n",
       "      <th>n_non_stop_unique_tokens</th>\n",
       "      <th>num_herfs</th>\n",
       "      <th>...</th>\n",
       "      <th>self_reference_avg_shares</th>\n",
       "      <th>LDA_00</th>\n",
       "      <th>LDA_01</th>\n",
       "      <th>LDA_02</th>\n",
       "      <th>LDA_03</th>\n",
       "      <th>LDA_04</th>\n",
       "      <th>global_subjectivity</th>\n",
       "      <th>global_sentiment_polarity</th>\n",
       "      <th>global_rate_postive_words</th>\n",
       "      <th>rate_negative_words</th>\n",
       "    </tr>\n",
       "  </thead>\n",
       "  <tbody>\n",
       "    <tr>\n",
       "      <th>0</th>\n",
       "      <td>1</td>\n",
       "      <td>0</td>\n",
       "      <td>0</td>\n",
       "      <td>0</td>\n",
       "      <td>0</td>\n",
       "      <td>1.757855</td>\n",
       "      <td>-0.695188</td>\n",
       "      <td>0.970372</td>\n",
       "      <td>0.925698</td>\n",
       "      <td>-0.607455</td>\n",
       "      <td>...</td>\n",
       "      <td>-0.243922</td>\n",
       "      <td>1.200608</td>\n",
       "      <td>1.078803</td>\n",
       "      <td>-0.624937</td>\n",
       "      <td>-0.618292</td>\n",
       "      <td>-0.670558</td>\n",
       "      <td>0.670611</td>\n",
       "      <td>-0.275979</td>\n",
       "      <td>0.346364</td>\n",
       "      <td>-0.366134</td>\n",
       "    </tr>\n",
       "    <tr>\n",
       "      <th>1</th>\n",
       "      <td>0</td>\n",
       "      <td>0</td>\n",
       "      <td>0</td>\n",
       "      <td>0</td>\n",
       "      <td>0</td>\n",
       "      <td>1.757855</td>\n",
       "      <td>-0.618768</td>\n",
       "      <td>0.541145</td>\n",
       "      <td>0.773534</td>\n",
       "      <td>-0.695700</td>\n",
       "      <td>...</td>\n",
       "      <td>-0.264409</td>\n",
       "      <td>2.339220</td>\n",
       "      <td>-0.415157</td>\n",
       "      <td>-0.589170</td>\n",
       "      <td>-0.588351</td>\n",
       "      <td>-0.636399</td>\n",
       "      <td>-0.875473</td>\n",
       "      <td>0.305745</td>\n",
       "      <td>0.201487</td>\n",
       "      <td>-0.136242</td>\n",
       "    </tr>\n",
       "    <tr>\n",
       "      <th>2</th>\n",
       "      <td>0</td>\n",
       "      <td>0</td>\n",
       "      <td>0</td>\n",
       "      <td>0</td>\n",
       "      <td>0</td>\n",
       "      <td>1.757855</td>\n",
       "      <td>-0.712171</td>\n",
       "      <td>0.325161</td>\n",
       "      <td>-0.057980</td>\n",
       "      <td>-0.695700</td>\n",
       "      <td>...</td>\n",
       "      <td>-0.226492</td>\n",
       "      <td>0.126205</td>\n",
       "      <td>-0.491224</td>\n",
       "      <td>-0.648518</td>\n",
       "      <td>-0.645153</td>\n",
       "      <td>1.549731</td>\n",
       "      <td>2.218698</td>\n",
       "      <td>2.104855</td>\n",
       "      <td>0.989596</td>\n",
       "      <td>-0.929135</td>\n",
       "    </tr>\n",
       "    <tr>\n",
       "      <th>3</th>\n",
       "      <td>1</td>\n",
       "      <td>0</td>\n",
       "      <td>0</td>\n",
       "      <td>0</td>\n",
       "      <td>0</td>\n",
       "      <td>1.757855</td>\n",
       "      <td>-0.032880</td>\n",
       "      <td>-0.195163</td>\n",
       "      <td>-0.046495</td>\n",
       "      <td>-0.166227</td>\n",
       "      <td>...</td>\n",
       "      <td>-0.264409</td>\n",
       "      <td>-0.593333</td>\n",
       "      <td>1.265510</td>\n",
       "      <td>0.986465</td>\n",
       "      <td>-0.660156</td>\n",
       "      <td>-0.710502</td>\n",
       "      <td>-0.115989</td>\n",
       "      <td>-0.191972</td>\n",
       "      <td>0.103596</td>\n",
       "      <td>0.290700</td>\n",
       "    </tr>\n",
       "    <tr>\n",
       "      <th>4</th>\n",
       "      <td>0</td>\n",
       "      <td>0</td>\n",
       "      <td>1</td>\n",
       "      <td>0</td>\n",
       "      <td>0</td>\n",
       "      <td>1.757855</td>\n",
       "      <td>1.115547</td>\n",
       "      <td>-0.838021</td>\n",
       "      <td>-0.856354</td>\n",
       "      <td>0.716228</td>\n",
       "      <td>...</td>\n",
       "      <td>-0.134256</td>\n",
       "      <td>-0.593106</td>\n",
       "      <td>-0.511892</td>\n",
       "      <td>-0.665447</td>\n",
       "      <td>-0.661284</td>\n",
       "      <td>2.252538</td>\n",
       "      <td>0.601052</td>\n",
       "      <td>1.668144</td>\n",
       "      <td>2.008377</td>\n",
       "      <td>-0.948810</td>\n",
       "    </tr>\n",
       "    <tr>\n",
       "      <th>...</th>\n",
       "      <td>...</td>\n",
       "      <td>...</td>\n",
       "      <td>...</td>\n",
       "      <td>...</td>\n",
       "      <td>...</td>\n",
       "      <td>...</td>\n",
       "      <td>...</td>\n",
       "      <td>...</td>\n",
       "      <td>...</td>\n",
       "      <td>...</td>\n",
       "      <td>...</td>\n",
       "      <td>...</td>\n",
       "      <td>...</td>\n",
       "      <td>...</td>\n",
       "      <td>...</td>\n",
       "      <td>...</td>\n",
       "      <td>...</td>\n",
       "      <td>...</td>\n",
       "      <td>...</td>\n",
       "      <td>...</td>\n",
       "      <td>...</td>\n",
       "    </tr>\n",
       "    <tr>\n",
       "      <th>39638</th>\n",
       "      <td>0</td>\n",
       "      <td>0</td>\n",
       "      <td>1</td>\n",
       "      <td>0</td>\n",
       "      <td>0</td>\n",
       "      <td>-1.618108</td>\n",
       "      <td>-0.425595</td>\n",
       "      <td>-0.010902</td>\n",
       "      <td>0.077815</td>\n",
       "      <td>-0.166227</td>\n",
       "      <td>...</td>\n",
       "      <td>1.265178</td>\n",
       "      <td>-0.606777</td>\n",
       "      <td>-0.529155</td>\n",
       "      <td>-0.229051</td>\n",
       "      <td>-0.673384</td>\n",
       "      <td>1.864662</td>\n",
       "      <td>0.336842</td>\n",
       "      <td>0.233697</td>\n",
       "      <td>-0.117835</td>\n",
       "      <td>-0.065085</td>\n",
       "    </tr>\n",
       "    <tr>\n",
       "      <th>39639</th>\n",
       "      <td>0</td>\n",
       "      <td>1</td>\n",
       "      <td>0</td>\n",
       "      <td>0</td>\n",
       "      <td>0</td>\n",
       "      <td>-1.618108</td>\n",
       "      <td>-0.463805</td>\n",
       "      <td>1.208880</td>\n",
       "      <td>1.378021</td>\n",
       "      <td>-0.166227</td>\n",
       "      <td>...</td>\n",
       "      <td>-0.177672</td>\n",
       "      <td>-0.590384</td>\n",
       "      <td>-0.512887</td>\n",
       "      <td>0.055077</td>\n",
       "      <td>1.551075</td>\n",
       "      <td>-0.710489</td>\n",
       "      <td>1.037111</td>\n",
       "      <td>0.773114</td>\n",
       "      <td>0.000477</td>\n",
       "      <td>-0.643236</td>\n",
       "    </tr>\n",
       "    <tr>\n",
       "      <th>39640</th>\n",
       "      <td>0</td>\n",
       "      <td>0</td>\n",
       "      <td>0</td>\n",
       "      <td>0</td>\n",
       "      <td>0</td>\n",
       "      <td>-1.618108</td>\n",
       "      <td>-0.221807</td>\n",
       "      <td>-0.103505</td>\n",
       "      <td>-0.186118</td>\n",
       "      <td>1.157456</td>\n",
       "      <td>...</td>\n",
       "      <td>-0.206584</td>\n",
       "      <td>-0.097345</td>\n",
       "      <td>-0.529046</td>\n",
       "      <td>-0.677383</td>\n",
       "      <td>1.422881</td>\n",
       "      <td>-0.301075</td>\n",
       "      <td>0.573568</td>\n",
       "      <td>-0.977044</td>\n",
       "      <td>-0.326448</td>\n",
       "      <td>0.865430</td>\n",
       "    </tr>\n",
       "    <tr>\n",
       "      <th>39641</th>\n",
       "      <td>0</td>\n",
       "      <td>0</td>\n",
       "      <td>0</td>\n",
       "      <td>1</td>\n",
       "      <td>0</td>\n",
       "      <td>-1.618108</td>\n",
       "      <td>0.287661</td>\n",
       "      <td>0.065251</td>\n",
       "      <td>0.128960</td>\n",
       "      <td>-0.077981</td>\n",
       "      <td>...</td>\n",
       "      <td>-0.245740</td>\n",
       "      <td>-0.549867</td>\n",
       "      <td>-0.460869</td>\n",
       "      <td>2.210441</td>\n",
       "      <td>-0.622562</td>\n",
       "      <td>-0.670970</td>\n",
       "      <td>-0.726910</td>\n",
       "      <td>-1.314141</td>\n",
       "      <td>-1.095851</td>\n",
       "      <td>1.571526</td>\n",
       "    </tr>\n",
       "    <tr>\n",
       "      <th>39642</th>\n",
       "      <td>1</td>\n",
       "      <td>0</td>\n",
       "      <td>0</td>\n",
       "      <td>0</td>\n",
       "      <td>0</td>\n",
       "      <td>-1.618108</td>\n",
       "      <td>-0.826801</td>\n",
       "      <td>1.250383</td>\n",
       "      <td>1.125455</td>\n",
       "      <td>-0.872191</td>\n",
       "      <td>...</td>\n",
       "      <td>-0.177672</td>\n",
       "      <td>-0.511849</td>\n",
       "      <td>2.995271</td>\n",
       "      <td>-0.589509</td>\n",
       "      <td>-0.586461</td>\n",
       "      <td>-0.636399</td>\n",
       "      <td>0.638691</td>\n",
       "      <td>-0.148774</td>\n",
       "      <td>1.381059</td>\n",
       "      <td>-0.776655</td>\n",
       "    </tr>\n",
       "  </tbody>\n",
       "</table>\n",
       "<p>39643 rows × 30 columns</p>\n",
       "</div>"
      ],
      "text/plain": [
       "       data_channel_is_entertainment  data_channel_is_socmed  \\\n",
       "0                                  1                       0   \n",
       "1                                  0                       0   \n",
       "2                                  0                       0   \n",
       "3                                  1                       0   \n",
       "4                                  0                       0   \n",
       "...                              ...                     ...   \n",
       "39638                              0                       0   \n",
       "39639                              0                       1   \n",
       "39640                              0                       0   \n",
       "39641                              0                       0   \n",
       "39642                              1                       0   \n",
       "\n",
       "       data_channel_is_tech  data_channel_is_world  is_weekend  timedelta  \\\n",
       "0                         0                      0           0   1.757855   \n",
       "1                         0                      0           0   1.757855   \n",
       "2                         0                      0           0   1.757855   \n",
       "3                         0                      0           0   1.757855   \n",
       "4                         1                      0           0   1.757855   \n",
       "...                     ...                    ...         ...        ...   \n",
       "39638                     1                      0           0  -1.618108   \n",
       "39639                     0                      0           0  -1.618108   \n",
       "39640                     0                      0           0  -1.618108   \n",
       "39641                     0                      1           0  -1.618108   \n",
       "39642                     0                      0           0  -1.618108   \n",
       "\n",
       "       n_tokens_content  n_unique_tokens  n_non_stop_unique_tokens  num_herfs  \\\n",
       "0             -0.695188         0.970372                  0.925698  -0.607455   \n",
       "1             -0.618768         0.541145                  0.773534  -0.695700   \n",
       "2             -0.712171         0.325161                 -0.057980  -0.695700   \n",
       "3             -0.032880        -0.195163                 -0.046495  -0.166227   \n",
       "4              1.115547        -0.838021                 -0.856354   0.716228   \n",
       "...                 ...              ...                       ...        ...   \n",
       "39638         -0.425595        -0.010902                  0.077815  -0.166227   \n",
       "39639         -0.463805         1.208880                  1.378021  -0.166227   \n",
       "39640         -0.221807        -0.103505                 -0.186118   1.157456   \n",
       "39641          0.287661         0.065251                  0.128960  -0.077981   \n",
       "39642         -0.826801         1.250383                  1.125455  -0.872191   \n",
       "\n",
       "       ...  self_reference_avg_shares    LDA_00    LDA_01    LDA_02    LDA_03  \\\n",
       "0      ...                  -0.243922  1.200608  1.078803 -0.624937 -0.618292   \n",
       "1      ...                  -0.264409  2.339220 -0.415157 -0.589170 -0.588351   \n",
       "2      ...                  -0.226492  0.126205 -0.491224 -0.648518 -0.645153   \n",
       "3      ...                  -0.264409 -0.593333  1.265510  0.986465 -0.660156   \n",
       "4      ...                  -0.134256 -0.593106 -0.511892 -0.665447 -0.661284   \n",
       "...    ...                        ...       ...       ...       ...       ...   \n",
       "39638  ...                   1.265178 -0.606777 -0.529155 -0.229051 -0.673384   \n",
       "39639  ...                  -0.177672 -0.590384 -0.512887  0.055077  1.551075   \n",
       "39640  ...                  -0.206584 -0.097345 -0.529046 -0.677383  1.422881   \n",
       "39641  ...                  -0.245740 -0.549867 -0.460869  2.210441 -0.622562   \n",
       "39642  ...                  -0.177672 -0.511849  2.995271 -0.589509 -0.586461   \n",
       "\n",
       "         LDA_04  global_subjectivity  global_sentiment_polarity  \\\n",
       "0     -0.670558             0.670611                  -0.275979   \n",
       "1     -0.636399            -0.875473                   0.305745   \n",
       "2      1.549731             2.218698                   2.104855   \n",
       "3     -0.710502            -0.115989                  -0.191972   \n",
       "4      2.252538             0.601052                   1.668144   \n",
       "...         ...                  ...                        ...   \n",
       "39638  1.864662             0.336842                   0.233697   \n",
       "39639 -0.710489             1.037111                   0.773114   \n",
       "39640 -0.301075             0.573568                  -0.977044   \n",
       "39641 -0.670970            -0.726910                  -1.314141   \n",
       "39642 -0.636399             0.638691                  -0.148774   \n",
       "\n",
       "       global_rate_postive_words  rate_negative_words  \n",
       "0                       0.346364            -0.366134  \n",
       "1                       0.201487            -0.136242  \n",
       "2                       0.989596            -0.929135  \n",
       "3                       0.103596             0.290700  \n",
       "4                       2.008377            -0.948810  \n",
       "...                          ...                  ...  \n",
       "39638                  -0.117835            -0.065085  \n",
       "39639                   0.000477            -0.643236  \n",
       "39640                  -0.326448             0.865430  \n",
       "39641                  -1.095851             1.571526  \n",
       "39642                   1.381059            -0.776655  \n",
       "\n",
       "[39643 rows x 30 columns]"
      ]
     },
     "execution_count": 98,
     "metadata": {},
     "output_type": "execute_result"
    }
   ],
   "source": [
    "DFtop30 = DF[['data_channel_is_entertainment','data_channel_is_socmed','data_channel_is_tech','data_channel_is_world',\n",
    "              'is_weekend','timedelta','n_tokens_content','n_unique_tokens','n_non_stop_unique_tokens','num_herfs','num_imgs',\n",
    "              'average_token_length', 'kw_max_min','kw_avg_min','kw_avg_max','kw_min_avg','kw_max_avg','kw_avg_avg',\n",
    "              'self_reference_min_shares','self_reference_max_shares','self_reference_avg_shares','LDA_00','LDA_01','LDA_02',\n",
    "              'LDA_03','LDA_04','global_subjectivity','global_sentiment_polarity','global_rate_postive_words',\n",
    "              'rate_negative_words'] ]\n",
    "DFtop30"
   ]
  },
  {
   "cell_type": "code",
   "execution_count": null,
   "metadata": {},
   "outputs": [],
   "source": [
    "DFtop30.to_csv('DFtop30.csv')\n",
    "DFFNL = pd.concat([DFtop30,DF_target], axis =1)\n",
    "DFFNL.shape\n",
    "DFFNL.to_csv('DFFNL.csv')"
   ]
  },
  {
   "cell_type": "markdown",
   "metadata": {},
   "source": [
    "your comments for step 2.4 Feature importance analysis\n",
    "\n",
    "After the dataset is cleaned,  four types of features are identified \n",
    "1- feature in the first column, url that requires preprocessing,removing some strings, tokenization and encoding\n",
    "from the url feature, the common value \"https://mashable.com\" was removed, the rest characters are splitted on separator delimeters.As a result the url featutre is transformed in to list of strings separated by a comma or on excel to a row containing columns equal to the number of strings.\n",
    "eg.https://mashable.com/2013/01/07/amazon.instant-video-browser is transformed in to 2013,01,07,amazon,instant,video,browser \n",
    "the first three columns representing yy,mm,dd is stored on URL_split_1. The rest is again processed, each string hoding its own cell on excel , then the columns having >80% NA values where removed resulting in 4 columns stored as URL_split_2A, URL_split_2B, URL_split_2C,URL_split_2D on Excel.One hot encoding is implemented to transform the data in to binary features, Then constant features are dropped by setting a certain threshold value for varience, resulting dataframes df1, dfA, dfB,dfC and dfD. Finally DF1, dataframe comprising df1, dfA, dfB,dfC,dfD is created.\n",
    "DF1 which would have 45+8693+9469+8776+6608 = 33591 columns(featues) after one hot encoding of the url feature is reduced to 54 features after applying a threshold value of 99% for varience.\n",
    "\n",
    "2- Binaryfeatures, DF_2 stays as it is\n",
    "3-the rest of the features that requires scaling,are scaled using standard scaler and make dataframe DF_3.\n",
    "4 -Target Feature that is continious and requires descritization,it is descritized in to 5 , using the quantile optio so that each catagory contains equal number of samples.\n",
    "DF_2 and DF_3  are not affected by 99% threshold value for varience.\n",
    "\n",
    "Further featureimportance analysis is carried out by applying the tree based algorithms, Decesion tree, Random Forest and Extra Tree Clasiffier with default parameters where carried out, Further analysis changing the parameters and by implementing Grid search is carried out on RTC, to extract  feature importance. Recursive feature elimination(RFE)is implemented to extract the top 30 important features.\n",
    "\n",
    "A new dataframe,DFFNL,considering the top 30 imporatant features and the target feature is created\n",
    "\n"
   ]
  },
  {
   "cell_type": "markdown",
   "metadata": {},
   "source": [
    "<hr>\n",
    "\n",
    "## 3. Model Selection (up to 8.2 of 11.2  points)\n",
    "In this part of the challenge you are requested to perform all the necessary steps required in order to design a full fledged classification task on the <b>shares</b> feature.\n",
    "\n",
    "You are requested to perform the following steps having in mind the following: \n",
    "\n",
    "1) the dataset must be properly splitted to perform crossvalidation \n",
    "\n",
    "2) when required, features must be properly encoded\n",
    "\n",
    "3) in order to simplify the problem the target feature can be dicretized <b>(number of classes must be >=5)</b> ;\n",
    "\n",
    "4) for model selection you are requested to consider: \n",
    "\n",
    "- Decision Trees\n",
    "\n",
    "- Support Vector Machines;\n",
    "\n",
    "- An ensamble methodology;\n",
    "\n",
    "- MLPNs.\n",
    "\n",
    "5) hyper-parameter tuning <b>must</b> be performed and discussed;\n",
    "\n",
    "6) apply standardizion and normalization when appropriate;\n",
    "\n",
    "7) remember to use an appropriate evaluation setting (cross-fold etc..)\n",
    "\n",
    "8) describe the measures adopted for the evaluation and discuss the results;\n",
    "\n",
    "9) provide a discussion of the model selection, where you describe the differences in terms of performance and explains the root causes;\n"
   ]
  },
  {
   "cell_type": "code",
   "execution_count": 4,
   "metadata": {},
   "outputs": [],
   "source": [
    "# write here the code for step 3 Model Selection\n",
    "import pandas as pd\n",
    "import numpy as np\n",
    "import matplotlib.pyplot as plt\n",
    "from sklearn.model_selection import train_test_split\n",
    "from sklearn import metrics\n",
    "import seaborn as sns \n",
    "DFFNL = pd.read_csv('DFFNL.csv')\n",
    "X = DFFNL.drop(\"shares\",axis=1)\n",
    "y = DFFNL[\"shares\"]\n",
    "X_train,X_test,y_train,y_test = train_test_split(X,y,random_state = 10,test_size =0.30)"
   ]
  },
  {
   "cell_type": "markdown",
   "metadata": {},
   "source": [
    "1-Decision Tree Classifier"
   ]
  },
  {
   "cell_type": "code",
   "execution_count": 7,
   "metadata": {},
   "outputs": [
    {
     "name": "stdout",
     "output_type": "stream",
     "text": [
      "# Tuning hyper-parameters for precision\n",
      "\n",
      "Best parameters set found on development set:\n",
      "\n",
      "{'max_depth': 20, 'min_samples_split': 700}\n",
      "\n",
      "Grid scores on development set:\n",
      "\n",
      "0.285 (+/-0.010) for {'max_depth': 20, 'min_samples_split': 200}\n",
      "0.291 (+/-0.013) for {'max_depth': 20, 'min_samples_split': 500}\n",
      "0.292 (+/-0.012) for {'max_depth': 20, 'min_samples_split': 700}\n",
      "0.291 (+/-0.019) for {'max_depth': 20, 'min_samples_split': 800}\n",
      "0.286 (+/-0.012) for {'max_depth': 20, 'min_samples_split': 950}\n",
      "0.286 (+/-0.012) for {'max_depth': 20, 'min_samples_split': 1000}\n",
      "0.285 (+/-0.009) for {'max_depth': 25, 'min_samples_split': 200}\n",
      "0.291 (+/-0.013) for {'max_depth': 25, 'min_samples_split': 500}\n",
      "0.292 (+/-0.012) for {'max_depth': 25, 'min_samples_split': 700}\n",
      "0.291 (+/-0.019) for {'max_depth': 25, 'min_samples_split': 800}\n",
      "0.286 (+/-0.012) for {'max_depth': 25, 'min_samples_split': 950}\n",
      "0.286 (+/-0.012) for {'max_depth': 25, 'min_samples_split': 1000}\n",
      "\n",
      "Detailed classification report:\n",
      "\n",
      "The model is trained on the full development set.\n",
      "The scores are computed on the full evaluation set.\n",
      "\n",
      "              precision    recall  f1-score   support\n",
      "\n",
      "           0       0.33      0.49      0.40      2421\n",
      "           1       0.29      0.26      0.28      2633\n",
      "           2       0.24      0.15      0.19      2225\n",
      "           3       0.29      0.18      0.22      2244\n",
      "           4       0.33      0.43      0.37      2370\n",
      "\n",
      "    accuracy                           0.31     11893\n",
      "   macro avg       0.30      0.30      0.29     11893\n",
      "weighted avg       0.30      0.31      0.29     11893\n",
      "\n",
      "\n",
      "# Tuning hyper-parameters for recall\n",
      "\n",
      "Best parameters set found on development set:\n",
      "\n",
      "{'max_depth': 20, 'min_samples_split': 700}\n",
      "\n",
      "Grid scores on development set:\n",
      "\n",
      "0.291 (+/-0.013) for {'max_depth': 20, 'min_samples_split': 200}\n",
      "0.302 (+/-0.010) for {'max_depth': 20, 'min_samples_split': 500}\n",
      "0.303 (+/-0.009) for {'max_depth': 20, 'min_samples_split': 700}\n",
      "0.302 (+/-0.012) for {'max_depth': 20, 'min_samples_split': 800}\n",
      "0.300 (+/-0.011) for {'max_depth': 20, 'min_samples_split': 950}\n",
      "0.299 (+/-0.011) for {'max_depth': 20, 'min_samples_split': 1000}\n",
      "0.290 (+/-0.013) for {'max_depth': 25, 'min_samples_split': 200}\n",
      "0.302 (+/-0.010) for {'max_depth': 25, 'min_samples_split': 500}\n",
      "0.303 (+/-0.009) for {'max_depth': 25, 'min_samples_split': 700}\n",
      "0.302 (+/-0.012) for {'max_depth': 25, 'min_samples_split': 800}\n",
      "0.300 (+/-0.011) for {'max_depth': 25, 'min_samples_split': 950}\n",
      "0.299 (+/-0.011) for {'max_depth': 25, 'min_samples_split': 1000}\n",
      "\n",
      "Detailed classification report:\n",
      "\n",
      "The model is trained on the full development set.\n",
      "The scores are computed on the full evaluation set.\n",
      "\n",
      "              precision    recall  f1-score   support\n",
      "\n",
      "           0       0.33      0.49      0.40      2421\n",
      "           1       0.29      0.26      0.28      2633\n",
      "           2       0.24      0.15      0.19      2225\n",
      "           3       0.29      0.18      0.22      2244\n",
      "           4       0.33      0.43      0.37      2370\n",
      "\n",
      "    accuracy                           0.31     11893\n",
      "   macro avg       0.30      0.30      0.29     11893\n",
      "weighted avg       0.30      0.31      0.29     11893\n",
      "\n",
      "\n"
     ]
    }
   ],
   "source": [
    "from sklearn.model_selection import GridSearchCV\n",
    "from sklearn.metrics import classification_report\n",
    "from sklearn.tree import DecisionTreeClassifier\n",
    "\n",
    "tuned_parameters = [{'max_depth': [20, 25],\n",
    "                     'min_samples_split': [200,500,700,800,950,1000]}]\n",
    "\n",
    "scores = ['precision', 'recall']\n",
    "for score in scores:\n",
    "    print(\"# Tuning hyper-parameters for %s\" % score)\n",
    "    print()\n",
    "\n",
    "    clf_dt = GridSearchCV(DecisionTreeClassifier(), tuned_parameters, scoring='%s_macro' % score)\n",
    "    clf_dt.fit(X_train, y_train)\n",
    "    \n",
    "    print(\"Best parameters set found on development set:\")\n",
    "    print()\n",
    "    print(clf_dt.best_params_)\n",
    "    print()\n",
    "    print(\"Grid scores on development set:\")\n",
    "    print()\n",
    "    means = clf_dt.cv_results_['mean_test_score']\n",
    "    stds = clf_dt.cv_results_['std_test_score']\n",
    "    for mean, std, params in zip(means, stds, clf_dt.cv_results_['params']):\n",
    "        print(\"%0.3f (+/-%0.03f) for %r\"\n",
    "              % (mean, std * 2, params))\n",
    "    print()\n",
    "\n",
    "    print(\"Detailed classification report:\")\n",
    "    print()\n",
    "    print(\"The model is trained on the full development set.\")\n",
    "    print(\"The scores are computed on the full evaluation set.\")\n",
    "    print()\n",
    "    y_true, y_pred = y_test, clf_dt.predict(X_test)\n",
    "    print(classification_report(y_true, y_pred))\n",
    "    print()"
   ]
  },
  {
   "cell_type": "code",
   "execution_count": 11,
   "metadata": {},
   "outputs": [
    {
     "name": "stdout",
     "output_type": "stream",
     "text": [
      "DTC 0.2459202089838945\n"
     ]
    }
   ],
   "source": [
    "#using cross val score\n",
    "from sklearn.model_selection import cross_val_score\n",
    "clf_1 = DecisionTreeClassifier(random_state=42, min_samples_split = 1200 , max_depth = 20)\n",
    "scores = cross_val_score(clf_1, X, y, cv= 5)\n",
    "print(\"DTC\",scores.mean())"
   ]
  },
  {
   "cell_type": "markdown",
   "metadata": {},
   "source": [
    "2-Random Forest Classifier"
   ]
  },
  {
   "cell_type": "code",
   "execution_count": 9,
   "metadata": {},
   "outputs": [
    {
     "name": "stdout",
     "output_type": "stream",
     "text": [
      "# Tuning hyper-parameters for precision\n",
      "\n",
      "Best parameters set found on development set:\n",
      "\n",
      "{'max_depth': 40, 'min_samples_split': 300, 'n_estimators': 80}\n",
      "\n",
      "Grid scores on development set:\n",
      "\n",
      "0.311 (+/-0.018) for {'max_depth': 25, 'min_samples_split': 300, 'n_estimators': 25}\n",
      "0.312 (+/-0.015) for {'max_depth': 25, 'min_samples_split': 300, 'n_estimators': 80}\n",
      "0.311 (+/-0.018) for {'max_depth': 25, 'min_samples_split': 300, 'n_estimators': 150}\n",
      "0.312 (+/-0.018) for {'max_depth': 25, 'min_samples_split': 600, 'n_estimators': 25}\n",
      "0.310 (+/-0.021) for {'max_depth': 25, 'min_samples_split': 600, 'n_estimators': 80}\n",
      "0.309 (+/-0.020) for {'max_depth': 25, 'min_samples_split': 600, 'n_estimators': 150}\n",
      "0.312 (+/-0.013) for {'max_depth': 25, 'min_samples_split': 800, 'n_estimators': 25}\n",
      "0.307 (+/-0.017) for {'max_depth': 25, 'min_samples_split': 800, 'n_estimators': 80}\n",
      "0.311 (+/-0.023) for {'max_depth': 25, 'min_samples_split': 800, 'n_estimators': 150}\n",
      "0.310 (+/-0.011) for {'max_depth': 40, 'min_samples_split': 300, 'n_estimators': 25}\n",
      "0.314 (+/-0.014) for {'max_depth': 40, 'min_samples_split': 300, 'n_estimators': 80}\n",
      "0.312 (+/-0.016) for {'max_depth': 40, 'min_samples_split': 300, 'n_estimators': 150}\n",
      "0.309 (+/-0.009) for {'max_depth': 40, 'min_samples_split': 600, 'n_estimators': 25}\n",
      "0.310 (+/-0.019) for {'max_depth': 40, 'min_samples_split': 600, 'n_estimators': 80}\n",
      "0.311 (+/-0.018) for {'max_depth': 40, 'min_samples_split': 600, 'n_estimators': 150}\n",
      "0.308 (+/-0.027) for {'max_depth': 40, 'min_samples_split': 800, 'n_estimators': 25}\n",
      "0.308 (+/-0.020) for {'max_depth': 40, 'min_samples_split': 800, 'n_estimators': 80}\n",
      "0.309 (+/-0.020) for {'max_depth': 40, 'min_samples_split': 800, 'n_estimators': 150}\n",
      "\n",
      "Detailed classification report:\n",
      "\n",
      "The model is trained on the full development set.\n",
      "The scores are computed on the full evaluation set.\n",
      "\n",
      "              precision    recall  f1-score   support\n",
      "\n",
      "           0       0.40      0.48      0.43      2421\n",
      "           1       0.30      0.36      0.33      2633\n",
      "           2       0.27      0.12      0.16      2225\n",
      "           3       0.30      0.20      0.24      2244\n",
      "           4       0.34      0.51      0.41      2370\n",
      "\n",
      "    accuracy                           0.34     11893\n",
      "   macro avg       0.32      0.33      0.31     11893\n",
      "weighted avg       0.32      0.34      0.32     11893\n",
      "\n",
      "\n",
      "# Tuning hyper-parameters for recall\n",
      "\n",
      "Best parameters set found on development set:\n",
      "\n",
      "{'max_depth': 25, 'min_samples_split': 300, 'n_estimators': 150}\n",
      "\n",
      "Grid scores on development set:\n",
      "\n",
      "0.319 (+/-0.011) for {'max_depth': 25, 'min_samples_split': 300, 'n_estimators': 25}\n",
      "0.321 (+/-0.013) for {'max_depth': 25, 'min_samples_split': 300, 'n_estimators': 80}\n",
      "0.324 (+/-0.013) for {'max_depth': 25, 'min_samples_split': 300, 'n_estimators': 150}\n",
      "0.319 (+/-0.016) for {'max_depth': 25, 'min_samples_split': 600, 'n_estimators': 25}\n",
      "0.318 (+/-0.019) for {'max_depth': 25, 'min_samples_split': 600, 'n_estimators': 80}\n",
      "0.320 (+/-0.018) for {'max_depth': 25, 'min_samples_split': 600, 'n_estimators': 150}\n",
      "0.314 (+/-0.010) for {'max_depth': 25, 'min_samples_split': 800, 'n_estimators': 25}\n",
      "0.317 (+/-0.016) for {'max_depth': 25, 'min_samples_split': 800, 'n_estimators': 80}\n",
      "0.317 (+/-0.015) for {'max_depth': 25, 'min_samples_split': 800, 'n_estimators': 150}\n",
      "0.318 (+/-0.013) for {'max_depth': 40, 'min_samples_split': 300, 'n_estimators': 25}\n",
      "0.320 (+/-0.013) for {'max_depth': 40, 'min_samples_split': 300, 'n_estimators': 80}\n",
      "0.322 (+/-0.017) for {'max_depth': 40, 'min_samples_split': 300, 'n_estimators': 150}\n",
      "0.317 (+/-0.015) for {'max_depth': 40, 'min_samples_split': 600, 'n_estimators': 25}\n",
      "0.319 (+/-0.017) for {'max_depth': 40, 'min_samples_split': 600, 'n_estimators': 80}\n",
      "0.318 (+/-0.015) for {'max_depth': 40, 'min_samples_split': 600, 'n_estimators': 150}\n",
      "0.316 (+/-0.014) for {'max_depth': 40, 'min_samples_split': 800, 'n_estimators': 25}\n",
      "0.317 (+/-0.012) for {'max_depth': 40, 'min_samples_split': 800, 'n_estimators': 80}\n",
      "0.318 (+/-0.018) for {'max_depth': 40, 'min_samples_split': 800, 'n_estimators': 150}\n",
      "\n",
      "Detailed classification report:\n",
      "\n",
      "The model is trained on the full development set.\n",
      "The scores are computed on the full evaluation set.\n",
      "\n",
      "              precision    recall  f1-score   support\n",
      "\n",
      "           0       0.40      0.48      0.44      2421\n",
      "           1       0.31      0.36      0.33      2633\n",
      "           2       0.26      0.11      0.15      2225\n",
      "           3       0.30      0.19      0.23      2244\n",
      "           4       0.34      0.51      0.41      2370\n",
      "\n",
      "    accuracy                           0.34     11893\n",
      "   macro avg       0.32      0.33      0.31     11893\n",
      "weighted avg       0.32      0.34      0.32     11893\n",
      "\n",
      "\n"
     ]
    }
   ],
   "source": [
    "from sklearn.model_selection import GridSearchCV\n",
    "from sklearn.metrics import classification_report\n",
    "from sklearn.ensemble import RandomForestClassifier\n",
    "\n",
    "tuned_parameters = [{'n_estimators': [25,80,150],\n",
    "                     'max_depth': [25,40,],\n",
    "                     'min_samples_split': [300,600,800]}]\n",
    "\n",
    "scores = ['precision', 'recall']\n",
    "for score in scores:\n",
    "    print(\"# Tuning hyper-parameters for %s\" % score)\n",
    "    print()\n",
    "\n",
    "    clf_rf = GridSearchCV(RandomForestClassifier(), tuned_parameters, scoring='%s_macro' % score)\n",
    "    clf_rf.fit(X_train, y_train)\n",
    "    \n",
    "    print(\"Best parameters set found on development set:\")\n",
    "    print()\n",
    "    print(clf_rf.best_params_)\n",
    "    print()\n",
    "    print(\"Grid scores on development set:\")\n",
    "    print()\n",
    "    means = clf_rf.cv_results_['mean_test_score']\n",
    "    stds = clf_rf.cv_results_['std_test_score']\n",
    "    for mean, std, params in zip(means, stds, clf_rf.cv_results_['params']):\n",
    "        print(\"%0.3f (+/-%0.03f) for %r\"\n",
    "              % (mean, std * 2, params))\n",
    "    print()\n",
    "\n",
    "    print(\"Detailed classification report:\")\n",
    "    print()\n",
    "    print(\"The model is trained on the full development set.\")\n",
    "    print(\"The scores are computed on the full evaluation set.\")\n",
    "    print()\n",
    "    y_true, y_pred = y_test, clf_rf.predict(X_test)\n",
    "    print(classification_report(y_true, y_pred))\n",
    "    print()"
   ]
  },
  {
   "cell_type": "code",
   "execution_count": 12,
   "metadata": {},
   "outputs": [
    {
     "name": "stdout",
     "output_type": "stream",
     "text": [
      "RFC 0.2583315134482508\n"
     ]
    }
   ],
   "source": [
    "#using cross val\n",
    "clf_2 = RandomForestClassifier(random_state=42, n_estimators= 80,min_samples_split = 300 , max_depth = 40)\n",
    "scores = cross_val_score(clf_2, X, y, cv=5)\n",
    "print(\"RFC\",scores.mean())"
   ]
  },
  {
   "cell_type": "code",
   "execution_count": 13,
   "metadata": {},
   "outputs": [
    {
     "name": "stdout",
     "output_type": "stream",
     "text": [
      "RFC 0.25709549013386845\n"
     ]
    }
   ],
   "source": [
    "clf_2 = RandomForestClassifier(random_state=42, n_estimators= 150,min_samples_split = 300 , max_depth = 25)\n",
    "scores = cross_val_score(clf_2, X, y, cv=5)\n",
    "print(\"RFC\",scores.mean())"
   ]
  },
  {
   "cell_type": "markdown",
   "metadata": {},
   "source": [
    "3- Extra Tree Classifier"
   ]
  },
  {
   "cell_type": "code",
   "execution_count": 14,
   "metadata": {},
   "outputs": [
    {
     "name": "stdout",
     "output_type": "stream",
     "text": [
      "# Tuning hyper-parameters for precision\n",
      "\n",
      "Best parameters set found on development set:\n",
      "\n",
      "{'max_depth': 25, 'min_samples_split': 300, 'n_estimators': 150}\n",
      "\n",
      "Grid scores on development set:\n",
      "\n",
      "0.304 (+/-0.019) for {'max_depth': 25, 'min_samples_split': 300, 'n_estimators': 25}\n",
      "0.306 (+/-0.015) for {'max_depth': 25, 'min_samples_split': 300, 'n_estimators': 80}\n",
      "0.307 (+/-0.016) for {'max_depth': 25, 'min_samples_split': 300, 'n_estimators': 150}\n",
      "0.296 (+/-0.014) for {'max_depth': 25, 'min_samples_split': 600, 'n_estimators': 25}\n",
      "0.300 (+/-0.014) for {'max_depth': 25, 'min_samples_split': 600, 'n_estimators': 80}\n",
      "0.298 (+/-0.015) for {'max_depth': 25, 'min_samples_split': 600, 'n_estimators': 150}\n",
      "0.295 (+/-0.010) for {'max_depth': 25, 'min_samples_split': 800, 'n_estimators': 25}\n",
      "0.297 (+/-0.019) for {'max_depth': 25, 'min_samples_split': 800, 'n_estimators': 80}\n",
      "0.299 (+/-0.016) for {'max_depth': 25, 'min_samples_split': 800, 'n_estimators': 150}\n",
      "0.306 (+/-0.016) for {'max_depth': 40, 'min_samples_split': 300, 'n_estimators': 25}\n",
      "0.304 (+/-0.012) for {'max_depth': 40, 'min_samples_split': 300, 'n_estimators': 80}\n",
      "0.303 (+/-0.011) for {'max_depth': 40, 'min_samples_split': 300, 'n_estimators': 150}\n",
      "0.297 (+/-0.014) for {'max_depth': 40, 'min_samples_split': 600, 'n_estimators': 25}\n",
      "0.299 (+/-0.017) for {'max_depth': 40, 'min_samples_split': 600, 'n_estimators': 80}\n",
      "0.299 (+/-0.016) for {'max_depth': 40, 'min_samples_split': 600, 'n_estimators': 150}\n",
      "0.295 (+/-0.016) for {'max_depth': 40, 'min_samples_split': 800, 'n_estimators': 25}\n",
      "0.297 (+/-0.009) for {'max_depth': 40, 'min_samples_split': 800, 'n_estimators': 80}\n",
      "0.301 (+/-0.013) for {'max_depth': 40, 'min_samples_split': 800, 'n_estimators': 150}\n",
      "\n",
      "Detailed classification report:\n",
      "\n",
      "The model is trained on the full development set.\n",
      "The scores are computed on the full evaluation set.\n",
      "\n",
      "              precision    recall  f1-score   support\n",
      "\n",
      "           0       0.36      0.54      0.43      2421\n",
      "           1       0.30      0.29      0.29      2633\n",
      "           2       0.26      0.10      0.15      2225\n",
      "           3       0.32      0.23      0.26      2244\n",
      "           4       0.35      0.46      0.39      2370\n",
      "\n",
      "    accuracy                           0.33     11893\n",
      "   macro avg       0.31      0.32      0.31     11893\n",
      "weighted avg       0.32      0.33      0.31     11893\n",
      "\n",
      "\n",
      "# Tuning hyper-parameters for recall\n",
      "\n",
      "Best parameters set found on development set:\n",
      "\n",
      "{'max_depth': 40, 'min_samples_split': 300, 'n_estimators': 150}\n",
      "\n",
      "Grid scores on development set:\n",
      "\n",
      "0.316 (+/-0.011) for {'max_depth': 25, 'min_samples_split': 300, 'n_estimators': 25}\n",
      "0.315 (+/-0.016) for {'max_depth': 25, 'min_samples_split': 300, 'n_estimators': 80}\n",
      "0.316 (+/-0.015) for {'max_depth': 25, 'min_samples_split': 300, 'n_estimators': 150}\n",
      "0.308 (+/-0.011) for {'max_depth': 25, 'min_samples_split': 600, 'n_estimators': 25}\n",
      "0.312 (+/-0.009) for {'max_depth': 25, 'min_samples_split': 600, 'n_estimators': 80}\n",
      "0.311 (+/-0.010) for {'max_depth': 25, 'min_samples_split': 600, 'n_estimators': 150}\n",
      "0.305 (+/-0.013) for {'max_depth': 25, 'min_samples_split': 800, 'n_estimators': 25}\n",
      "0.309 (+/-0.014) for {'max_depth': 25, 'min_samples_split': 800, 'n_estimators': 80}\n",
      "0.310 (+/-0.009) for {'max_depth': 25, 'min_samples_split': 800, 'n_estimators': 150}\n",
      "0.314 (+/-0.013) for {'max_depth': 40, 'min_samples_split': 300, 'n_estimators': 25}\n",
      "0.316 (+/-0.011) for {'max_depth': 40, 'min_samples_split': 300, 'n_estimators': 80}\n",
      "0.318 (+/-0.017) for {'max_depth': 40, 'min_samples_split': 300, 'n_estimators': 150}\n",
      "0.309 (+/-0.009) for {'max_depth': 40, 'min_samples_split': 600, 'n_estimators': 25}\n",
      "0.311 (+/-0.012) for {'max_depth': 40, 'min_samples_split': 600, 'n_estimators': 80}\n",
      "0.313 (+/-0.008) for {'max_depth': 40, 'min_samples_split': 600, 'n_estimators': 150}\n",
      "0.307 (+/-0.007) for {'max_depth': 40, 'min_samples_split': 800, 'n_estimators': 25}\n",
      "0.311 (+/-0.011) for {'max_depth': 40, 'min_samples_split': 800, 'n_estimators': 80}\n",
      "0.310 (+/-0.008) for {'max_depth': 40, 'min_samples_split': 800, 'n_estimators': 150}\n",
      "\n",
      "Detailed classification report:\n",
      "\n",
      "The model is trained on the full development set.\n",
      "The scores are computed on the full evaluation set.\n",
      "\n",
      "              precision    recall  f1-score   support\n",
      "\n",
      "           0       0.36      0.54      0.43      2421\n",
      "           1       0.29      0.29      0.29      2633\n",
      "           2       0.26      0.11      0.15      2225\n",
      "           3       0.31      0.22      0.26      2244\n",
      "           4       0.35      0.45      0.39      2370\n",
      "\n",
      "    accuracy                           0.33     11893\n",
      "   macro avg       0.31      0.32      0.31     11893\n",
      "weighted avg       0.31      0.33      0.31     11893\n",
      "\n",
      "\n"
     ]
    }
   ],
   "source": [
    "from sklearn.model_selection import GridSearchCV\n",
    "from sklearn.metrics import classification_report\n",
    "from sklearn.ensemble import ExtraTreesClassifier\n",
    "\n",
    "tuned_parameters = [{'n_estimators': [25,80,150],\n",
    "                     'max_depth': [25,40,],\n",
    "                     'min_samples_split': [300,600,800]}]\n",
    "\n",
    "scores = ['precision', 'recall']\n",
    "for score in scores:\n",
    "    print(\"# Tuning hyper-parameters for %s\" % score)\n",
    "    print()\n",
    "\n",
    "    clf_et = GridSearchCV(ExtraTreesClassifier(), tuned_parameters, scoring='%s_macro' % score)\n",
    "    clf_et.fit(X_train, y_train)\n",
    "    \n",
    "    print(\"Best parameters set found on development set:\")\n",
    "    print()\n",
    "    print(clf_et.best_params_)\n",
    "    print()\n",
    "    print(\"Grid scores on development set:\")\n",
    "    print()\n",
    "    means = clf_et.cv_results_['mean_test_score']\n",
    "    stds = clf_et.cv_results_['std_test_score']\n",
    "    for mean, std, params in zip(means, stds, clf_et.cv_results_['params']):\n",
    "        print(\"%0.3f (+/-%0.03f) for %r\"\n",
    "              % (mean, std * 2, params))\n",
    "    print()\n",
    "\n",
    "    print(\"Detailed classification report:\")\n",
    "    print()\n",
    "    print(\"The model is trained on the full development set.\")\n",
    "    print(\"The scores are computed on the full evaluation set.\")\n",
    "    print()\n",
    "    y_true, y_pred = y_test, clf_et.predict(X_test)\n",
    "    print(classification_report(y_true, y_pred))\n",
    "    print()"
   ]
  },
  {
   "cell_type": "code",
   "execution_count": 15,
   "metadata": {},
   "outputs": [
    {
     "data": {
      "text/plain": [
       "0.33271672412343395"
      ]
     },
     "execution_count": 15,
     "metadata": {},
     "output_type": "execute_result"
    }
   ],
   "source": [
    "from sklearn.ensemble import ExtraTreesClassifier\n",
    "\n",
    "et_w = ExtraTreesClassifier(random_state=42, n_estimators= 150,min_samples_split = 300 , max_depth = 25)\n",
    "et_w.fit(X_train, y_train)\n",
    "y_pred_et_w = et_w.predict(X_test)\n",
    "metrics.accuracy_score(y_test,y_pred_et_w)"
   ]
  },
  {
   "cell_type": "code",
   "execution_count": 16,
   "metadata": {},
   "outputs": [
    {
     "data": {
      "text/plain": [
       "0.332296308753048"
      ]
     },
     "execution_count": 16,
     "metadata": {},
     "output_type": "execute_result"
    }
   ],
   "source": [
    "from sklearn.ensemble import ExtraTreesClassifier\n",
    "\n",
    "et_w = ExtraTreesClassifier(random_state=42, n_estimators= 150,min_samples_split = 300 , max_depth = 40)\n",
    "et_w.fit(X_train, y_train)\n",
    "y_pred_et_w = et_w.predict(X_test)\n",
    "metrics.accuracy_score(y_test,y_pred_et_w)"
   ]
  },
  {
   "cell_type": "markdown",
   "metadata": {},
   "source": [
    "4 - Support Vector Machines"
   ]
  },
  {
   "cell_type": "code",
   "execution_count": 31,
   "metadata": {},
   "outputs": [],
   "source": [
    "import pandas as pd\n",
    "DFFNL = pd.read_csv('DFFNL.csv')\n",
    "X = DFFNL.drop(\"shares\",axis=1)\n",
    "y = DFFNL[\"shares\"]"
   ]
  },
  {
   "cell_type": "code",
   "execution_count": 32,
   "metadata": {},
   "outputs": [],
   "source": [
    "from sklearn.preprocessing  import Normalizer\n",
    "X = DFFNL.drop(\"shares\",axis=1)\n",
    "nn = Normalizer()\n",
    "X_normalized = nn.fit_transform(X)"
   ]
  },
  {
   "cell_type": "code",
   "execution_count": 33,
   "metadata": {},
   "outputs": [],
   "source": [
    "from sklearn.model_selection import train_test_split\n",
    "X_train,X_test,y_train,y_test = train_test_split(X_normalized,y,random_state = 10,test_size =0.30)"
   ]
  },
  {
   "cell_type": "code",
   "execution_count": 35,
   "metadata": {},
   "outputs": [
    {
     "data": {
      "text/plain": [
       "0.22155890019339108"
      ]
     },
     "execution_count": 35,
     "metadata": {},
     "output_type": "execute_result"
    }
   ],
   "source": [
    "#4.1 default value of Parameters\n",
    "from sklearn import svm\n",
    "from sklearn import metrics\n",
    "clf = svm.SVC()\n",
    "clf.fit(X_train,y_train)\n",
    "y_pred_clf = clf.predict(X_test)\n",
    "metrics.accuracy_score(y_test,y_pred_clf)"
   ]
  },
  {
   "cell_type": "code",
   "execution_count": 36,
   "metadata": {},
   "outputs": [
    {
     "name": "stdout",
     "output_type": "stream",
     "text": [
      "0.22139073404523668\n"
     ]
    }
   ],
   "source": [
    "#4.2\n",
    "from sklearn import svm\n",
    "clf = svm.SVC(kernel='rbf',gamma = 1e-2, C=1.0)\n",
    "clf.fit(X_train,y_train)\n",
    "y_pred_clf = clf.predict(X_test)\n",
    "print(metrics.accuracy_score(y_test,y_pred_clf))"
   ]
  },
  {
   "cell_type": "code",
   "execution_count": 38,
   "metadata": {},
   "outputs": [
    {
     "name": "stdout",
     "output_type": "stream",
     "text": [
      "0.22139073404523668\n"
     ]
    }
   ],
   "source": [
    "#4.3\n",
    "clf = svm.SVC(kernel='rbf',gamma = 1e-2, C=2)\n",
    "clf.fit(X_train,y_train)\n",
    "y_pred_clf = clf.predict(X_test)\n",
    "print(metrics.accuracy_score(y_test,y_pred_clf))"
   ]
  },
  {
   "cell_type": "code",
   "execution_count": 39,
   "metadata": {},
   "outputs": [
    {
     "name": "stdout",
     "output_type": "stream",
     "text": [
      "0.22139073404523668\n"
     ]
    }
   ],
   "source": [
    "#4.4\n",
    "clf = svm.SVC(kernel='rbf',gamma = 1e-2, C=10)\n",
    "clf.fit(X_train,y_train)\n",
    "y_pred_clf = clf.predict(X_test)\n",
    "print(metrics.accuracy_score(y_test,y_pred_clf))"
   ]
  },
  {
   "cell_type": "code",
   "execution_count": 40,
   "metadata": {},
   "outputs": [
    {
     "name": "stdout",
     "output_type": "stream",
     "text": [
      "0.22181114941562263\n"
     ]
    }
   ],
   "source": [
    "#4.5\n",
    "clf = svm.SVC(kernel='rbf',gamma = 1e-2, C=1000)\n",
    "clf.fit(X_train,y_train)\n",
    "y_pred_clf = clf.predict(X_test)\n",
    "print(metrics.accuracy_score(y_test,y_pred_clf))"
   ]
  },
  {
   "cell_type": "code",
   "execution_count": 41,
   "metadata": {},
   "outputs": [
    {
     "name": "stdout",
     "output_type": "stream",
     "text": [
      "0.22147481711931388\n"
     ]
    }
   ],
   "source": [
    "#4.6\n",
    "clf = svm.SVC(kernel='rbf',gamma = 1e-3, C=1000)\n",
    "clf.fit(X_train,y_train)\n",
    "y_pred_clf = clf.predict(X_test)\n",
    "print(metrics.accuracy_score(y_test,y_pred_clf))"
   ]
  },
  {
   "cell_type": "code",
   "execution_count": 42,
   "metadata": {},
   "outputs": [
    {
     "name": "stdout",
     "output_type": "stream",
     "text": [
      "0.22139073404523668\n"
     ]
    }
   ],
   "source": [
    "#4.7\n",
    "from sklearn import svm\n",
    "clf = svm.SVC(kernel='linear',C=1)\n",
    "clf.fit(X_train,y_train)\n",
    "y_pred_clf = clf.predict(X_test)\n",
    "print(metrics.accuracy_score(y_test,y_pred_clf))"
   ]
  },
  {
   "cell_type": "code",
   "execution_count": 44,
   "metadata": {},
   "outputs": [
    {
     "name": "stdout",
     "output_type": "stream",
     "text": [
      "0.22164298326746826\n"
     ]
    }
   ],
   "source": [
    "#4.8\n",
    "from sklearn import svm\n",
    "clf = svm.SVC(kernel='linear',C=10)\n",
    "clf.fit(X_train,y_train)\n",
    "y_pred_clf = clf.predict(X_test)\n",
    "print(metrics.accuracy_score(y_test,y_pred_clf))"
   ]
  },
  {
   "cell_type": "code",
   "execution_count": 43,
   "metadata": {},
   "outputs": [
    {
     "name": "stdout",
     "output_type": "stream",
     "text": [
      "0.22164298326746826\n"
     ]
    }
   ],
   "source": [
    "#4.9\n",
    "from sklearn import svm\n",
    "clf = svm.SVC(kernel='linear',C=100)\n",
    "clf.fit(X_train,y_train)\n",
    "y_pred_clf = clf.predict(X_test)\n",
    "print(metrics.accuracy_score(y_test,y_pred_clf))"
   ]
  },
  {
   "cell_type": "code",
   "execution_count": 45,
   "metadata": {},
   "outputs": [
    {
     "name": "stdout",
     "output_type": "stream",
     "text": [
      "0.22139073404523668\n"
     ]
    }
   ],
   "source": [
    "#4.10\n",
    "from sklearn import svm\n",
    "clf = svm.SVC(kernel='poly', degree=3, gamma='auto', C=1.0)\n",
    "clf.fit(X_train,y_train)\n",
    "y_pred_clf = clf.predict(X_test)\n",
    "print(metrics.accuracy_score(y_test,y_pred_clf))"
   ]
  },
  {
   "cell_type": "code",
   "execution_count": 46,
   "metadata": {},
   "outputs": [
    {
     "name": "stdout",
     "output_type": "stream",
     "text": [
      "0.22139073404523668\n"
     ]
    }
   ],
   "source": [
    "#4.11\n",
    "from sklearn import svm\n",
    "clf = svm.SVC(kernel='poly', degree=6, gamma='auto', C=100)\n",
    "clf.fit(X_train,y_train)\n",
    "y_pred_clf = clf.predict(X_test)\n",
    "print(metrics.accuracy_score(y_test,y_pred_clf))"
   ]
  },
  {
   "cell_type": "code",
   "execution_count": 48,
   "metadata": {},
   "outputs": [
    {
     "name": "stdout",
     "output_type": "stream",
     "text": [
      "0.22139073404523668\n"
     ]
    }
   ],
   "source": [
    "#4.12\n",
    "from sklearn import svm\n",
    "clf = svm.SVC(kernel='rbf',gamma = 1e-4, C=1000)\n",
    "clf.fit(X_train,y_train)\n",
    "y_pred_clf = clf.predict(X_test)\n",
    "print(metrics.accuracy_score(y_test,y_pred_clf))"
   ]
  },
  {
   "cell_type": "markdown",
   "metadata": {},
   "source": [
    "5 - MLPN's"
   ]
  },
  {
   "cell_type": "code",
   "execution_count": 74,
   "metadata": {},
   "outputs": [],
   "source": [
    "DFFNL = pd.read_csv('DFFNL.csv')\n",
    "X = DFFNL.drop(\"shares\",axis=1)\n",
    "y = DFFNL[\"shares\"]\n",
    "X_train,X_test,y_train,y_test = train_test_split(X,y,random_state = 10,test_size =0.30)"
   ]
  },
  {
   "cell_type": "code",
   "execution_count": 76,
   "metadata": {},
   "outputs": [
    {
     "name": "stdout",
     "output_type": "stream",
     "text": [
      "0.3152274447153788\n"
     ]
    },
    {
     "name": "stderr",
     "output_type": "stream",
     "text": [
      "C:\\Users\\Winta\\anaconda3\\lib\\site-packages\\sklearn\\neural_network\\_multilayer_perceptron.py:614: ConvergenceWarning: Stochastic Optimizer: Maximum iterations (200) reached and the optimization hasn't converged yet.\n",
      "  warnings.warn(\n"
     ]
    }
   ],
   "source": [
    "#5.1\n",
    "from sklearn.neural_network import MLPClassifier\n",
    "from sklearn import metrics\n",
    "clf = MLPClassifier()\n",
    "clf.fit(X_train,y_train)\n",
    "y_pred_clf = clf.predict(X_test)\n",
    "print(metrics.accuracy_score(y_test,y_pred_clf))"
   ]
  },
  {
   "cell_type": "code",
   "execution_count": 77,
   "metadata": {},
   "outputs": [
    {
     "name": "stderr",
     "output_type": "stream",
     "text": [
      "C:\\Users\\Winta\\anaconda3\\lib\\site-packages\\sklearn\\neural_network\\_multilayer_perceptron.py:500: ConvergenceWarning: lbfgs failed to converge (status=1):\n",
      "STOP: TOTAL NO. of ITERATIONS REACHED LIMIT.\n",
      "\n",
      "Increase the number of iterations (max_iter) or scale the data as shown in:\n",
      "    https://scikit-learn.org/stable/modules/preprocessing.html\n",
      "  self.n_iter_ = _check_optimize_result(\"lbfgs\", opt_res, self.max_iter)\n"
     ]
    },
    {
     "data": {
      "text/plain": [
       "0.32783990582695705"
      ]
     },
     "execution_count": 77,
     "metadata": {},
     "output_type": "execute_result"
    }
   ],
   "source": [
    "#5.2\n",
    "from sklearn.neural_network import MLPClassifier\n",
    "clf = MLPClassifier(solver='lbfgs', alpha=1e-5,hidden_layer_sizes=(15, 5), random_state=1)\n",
    "clf.fit(X_train,y_train)\n",
    "y_pred_clf = clf.predict(X_test)\n",
    "metrics.accuracy_score(y_test,y_pred_clf)"
   ]
  },
  {
   "cell_type": "code",
   "execution_count": 78,
   "metadata": {},
   "outputs": [
    {
     "name": "stderr",
     "output_type": "stream",
     "text": [
      "C:\\Users\\Winta\\anaconda3\\lib\\site-packages\\sklearn\\neural_network\\_multilayer_perceptron.py:614: ConvergenceWarning: Stochastic Optimizer: Maximum iterations (200) reached and the optimization hasn't converged yet.\n",
      "  warnings.warn(\n"
     ]
    },
    {
     "data": {
      "text/plain": [
       "0.32136550912301354"
      ]
     },
     "execution_count": 78,
     "metadata": {},
     "output_type": "execute_result"
    }
   ],
   "source": [
    "#5.3\n",
    "from sklearn.neural_network import MLPClassifier\n",
    "clf = MLPClassifier(solver='adam',hidden_layer_sizes=(15, 5), random_state=1)\n",
    "clf.fit(X_train,y_train)\n",
    "y_pred_clf = clf.predict(X_test)\n",
    "metrics.accuracy_score(y_test,y_pred_clf)"
   ]
  },
  {
   "cell_type": "code",
   "execution_count": 79,
   "metadata": {},
   "outputs": [
    {
     "data": {
      "text/plain": [
       "0.3106869587152106"
      ]
     },
     "execution_count": 79,
     "metadata": {},
     "output_type": "execute_result"
    }
   ],
   "source": [
    "#5.4\n",
    "from sklearn.neural_network import MLPClassifier\n",
    "clf = MLPClassifier(activation='identity',solver='adam', random_state=1)\n",
    "clf.fit(X_train,y_train)\n",
    "y_pred_clf = clf.predict(X_test)\n",
    "metrics.accuracy_score(y_test,y_pred_clf)"
   ]
  },
  {
   "cell_type": "code",
   "execution_count": 80,
   "metadata": {},
   "outputs": [
    {
     "name": "stdout",
     "output_type": "stream",
     "text": [
      "0.32144959219709074\n"
     ]
    },
    {
     "name": "stderr",
     "output_type": "stream",
     "text": [
      "C:\\Users\\Winta\\anaconda3\\lib\\site-packages\\sklearn\\neural_network\\_multilayer_perceptron.py:614: ConvergenceWarning: Stochastic Optimizer: Maximum iterations (200) reached and the optimization hasn't converged yet.\n",
      "  warnings.warn(\n"
     ]
    }
   ],
   "source": [
    "#5.5\n",
    "from sklearn.neural_network import MLPClassifier\n",
    "from sklearn import metrics\n",
    "clf = MLPClassifier(activation='logistic')\n",
    "clf.fit(X_train,y_train)\n",
    "y_pred_clf = clf.predict(X_test)\n",
    "print(metrics.accuracy_score(y_test,y_pred_clf))"
   ]
  },
  {
   "cell_type": "code",
   "execution_count": 82,
   "metadata": {},
   "outputs": [
    {
     "name": "stdout",
     "output_type": "stream",
     "text": [
      "0.2984949129740183\n"
     ]
    },
    {
     "name": "stderr",
     "output_type": "stream",
     "text": [
      "C:\\Users\\Winta\\anaconda3\\lib\\site-packages\\sklearn\\neural_network\\_multilayer_perceptron.py:614: ConvergenceWarning: Stochastic Optimizer: Maximum iterations (300) reached and the optimization hasn't converged yet.\n",
      "  warnings.warn(\n"
     ]
    }
   ],
   "source": [
    "#5.6\n",
    "from sklearn.neural_network import MLPClassifier\n",
    "from sklearn import metrics\n",
    "clf = MLPClassifier(activation='tanh',max_iter = 300)\n",
    "clf.fit(X_train,y_train)\n",
    "y_pred_clf = clf.predict(X_test)\n",
    "print(metrics.accuracy_score(y_test,y_pred_clf))"
   ]
  },
  {
   "cell_type": "markdown",
   "metadata": {},
   "source": [
    "6- Evalualtion"
   ]
  },
  {
   "cell_type": "code",
   "execution_count": 86,
   "metadata": {},
   "outputs": [],
   "source": [
    "import pandas as pd\n",
    "DFFNL = pd.read_csv('DFFNL.csv')\n",
    "X = DFFNL.drop(\"shares\",axis=1)\n",
    "y = DFFNL[\"shares\"]\n"
   ]
  },
  {
   "cell_type": "code",
   "execution_count": 87,
   "metadata": {},
   "outputs": [
    {
     "data": {
      "text/plain": [
       "array([0.24832892, 0.28250725, 0.28591247, 0.31508577, 0.29528254])"
      ]
     },
     "execution_count": 87,
     "metadata": {},
     "output_type": "execute_result"
    }
   ],
   "source": [
    "from sklearn.model_selection import cross_val_score\n",
    "from sklearn.ensemble import ExtraTreesClassifier\n",
    "clf = ExtraTreesClassifier(random_state=42, n_estimators= 150,min_samples_split = 300 , max_depth = 25)\n",
    "scores = cross_val_score(clf, X, y, cv=5)\n",
    "scores"
   ]
  },
  {
   "cell_type": "code",
   "execution_count": 88,
   "metadata": {},
   "outputs": [
    {
     "name": "stdout",
     "output_type": "stream",
     "text": [
      "Accuracy: 0.29 (+/- 0.04)\n"
     ]
    }
   ],
   "source": [
    "print(\"Accuracy: %0.2f (+/- %0.2f)\" % (scores.mean(), scores.std() * 2))"
   ]
  },
  {
   "cell_type": "code",
   "execution_count": 89,
   "metadata": {},
   "outputs": [
    {
     "data": {
      "text/plain": [
       "array([0.16269058, 0.23798266, 0.24941123, 0.2949296 , 0.24986679])"
      ]
     },
     "execution_count": 89,
     "metadata": {},
     "output_type": "execute_result"
    }
   ],
   "source": [
    "from sklearn import metrics\n",
    "scores = cross_val_score(clf, X, y, cv=5, scoring='f1_macro')\n",
    "scores"
   ]
  },
  {
   "cell_type": "code",
   "execution_count": 90,
   "metadata": {},
   "outputs": [
    {
     "name": "stdout",
     "output_type": "stream",
     "text": [
      "f1_macro: 0.24 (+/- 0.09)\n"
     ]
    }
   ],
   "source": [
    "print(\"f1_macro: %0.2f (+/- %0.2f)\" % (scores.mean(), scores.std() * 2))"
   ]
  },
  {
   "cell_type": "code",
   "execution_count": 91,
   "metadata": {},
   "outputs": [
    {
     "data": {
      "text/plain": [
       "array([0.40743456, 0.25658124, 0.2765015 , 0.3294453 , 0.33300632])"
      ]
     },
     "execution_count": 91,
     "metadata": {},
     "output_type": "execute_result"
    }
   ],
   "source": [
    "from sklearn import metrics\n",
    "scores = cross_val_score(clf, X, y, cv=5, scoring='precision_macro')\n",
    "scores"
   ]
  },
  {
   "cell_type": "code",
   "execution_count": 92,
   "metadata": {},
   "outputs": [
    {
     "name": "stdout",
     "output_type": "stream",
     "text": [
      "precision_macro: 0.32 (+/- 0.11)\n"
     ]
    }
   ],
   "source": [
    "print(\"precision_macro: %0.2f (+/- %0.2f)\" % (scores.mean(), scores.std() * 2))"
   ]
  },
  {
   "cell_type": "code",
   "execution_count": 93,
   "metadata": {},
   "outputs": [
    {
     "data": {
      "text/plain": [
       "array([0.26034424, 0.28415663, 0.28232047, 0.30781697, 0.28176947])"
      ]
     },
     "execution_count": 93,
     "metadata": {},
     "output_type": "execute_result"
    }
   ],
   "source": [
    "from sklearn import metrics\n",
    "scores = cross_val_score(clf, X, y, cv=5, scoring='recall_macro')\n",
    "scores"
   ]
  },
  {
   "cell_type": "code",
   "execution_count": 94,
   "metadata": {},
   "outputs": [
    {
     "name": "stdout",
     "output_type": "stream",
     "text": [
      "recall_macro: 0.28 (+/- 0.03)\n"
     ]
    }
   ],
   "source": [
    "print(\"recall_macro: %0.2f (+/- %0.2f)\" % (scores.mean(), scores.std() * 2))"
   ]
  },
  {
   "cell_type": "markdown",
   "metadata": {},
   "source": [
    "write here your comments for step 3 Model Selection\n",
    "\n",
    "As can be seen the tree based algorithms has relatively better performance than the rest. MLPN, Even though having similar performance with the tree based algorithms, it failed to converge even with maximum iteration is reached, increasing the iteration resulted in decreased performance."
   ]
  },
  {
   "cell_type": "markdown",
   "metadata": {},
   "source": [
    "<hr>\n",
    "\n",
    "# 4. Summary\n",
    "Provide a summary discussion (in English) of your solution <b>(at least 500 words)</b> feel free to include plots figures and tables.\n",
    "\n",
    "<b>This is a mandatory step</b>"
   ]
  },
  {
   "cell_type": "markdown",
   "metadata": {},
   "source": [
    "write here <b>your own</b> summary dicussion (in English) use at least 500 words, "
   ]
  },
  {
   "cell_type": "markdown",
   "metadata": {},
   "source": [
    "The given dataset is composed of 39,797 samples and 61 attributes where 1 is a target feature. The first step is to identify noise and clean the dataset. The main noise identified was a formatting error which was detected visually, which is fixed by rearranging the columns and rows. Also, cells having inconsistent values or empty values were detected either visually or by calculating the average, min and max values of each columns and detecting the outlier. Such cells are replaced by the average value of the feature. After such process rows that still have empty value for the majority of their features where deleted. After data cleaning number of samples is reduced by 0.38% which is less than 10% therefore acceptable. From the histogram of the target feature, it is worth noticing it’s are distributed between the mode and the mean value rather than the minimum and maximum value.\n",
    "\n",
    "The data consists of heterogeneous features that require different preprocessing, therefore 4 groups of dataset where identified. First feature is the url feature, that required splitting, tokenizing and encoding; Second group are binary features that required no preprocessing; Third group, non-binary features that required scaling and Fourth group, target feature that has continuous values that required discretization for non-binary classification task. Encoding the ‘url’ feature using one-hot encoding to transform it to binary features resulted in 33,591 features/columns when a variance threshold of 99% is used the number of features/columns is reduced to 54. Further Feature Importance analysis is carried out using Decision Tree, Random Forest and Extra Tree classifiers. Recursive Feature Elimination on Random Forest Classifier was carried out to extract the top 30 important features for further task, as RFC provided relatively better performance than the others. The target feature is discretized in to 5 categories, each containing equal number of samples using the quantile function. The detailed process of Feature Importance is discussed on section 2.4. \n",
    "For Model selection, Decision Tree (DTC); Random Forest (RFC) and Extra Tree(ETC), from ensemble methods; Support Vector Machines and Multilayer perceptron’s(MLPN) are considered. Standard scaling of features was carried out during the Feature Importance analysis using the tree based algorithms. Normalization is carried out for applying SVM methods. Hyper parameter tuning is carried out by varying maximum depth and minimum sample split, for DTC, the maximum performance achieved for the current task is 24.59%. Hyper parameter tuning, on (RFC) and Extra Tree(ETC), by varying number of estimators, maximum depth and minimum sample split resulted in maximum performance of 25.83% and 33.27% respectively. SVC, by varying polynomial, linear and rbf kernel and varying and C resulted in performance of 22%. MLPN by varying different solvers couldn’t converge even after reaching maximum iterations, increasing the number iterations resulted in decreasing performance, the maximum performance reached is 32.78%. Of all the models, ETC has a relatively better performance and evaluation is carried out using cross validation on the entire dataset. Estimators implemented are accuracy=29%, f1-score=24%, precision=32% and recall=28%, Even though precision has the highest score, it is less than 50% which may not be satisfactory.    \n",
    "The result could be due to one or all of the following reasons\n",
    "\n",
    "- the search for hyper parameters is not thorough only some pairs manually chosen are implemented. \n",
    "- the target feature is discretized in to categories having equal number of samples between the minimum and maximum value whereas it’s values are mainly distributed between the mode and the mean value, different way of discretization considering this fact may have resulted in a better performance. \n",
    "- Feature importance is extracted from algorithms with performance less than 50%, therefore features with better importance may have been eliminated.\n",
    "- Since the target feature is discretized in to discrete categories, using a linear classifier stepwise or treating it as a binary classification task may have resulted in a better performance.  \n"
   ]
  },
  {
   "cell_type": "code",
   "execution_count": null,
   "metadata": {},
   "outputs": [],
   "source": []
  }
 ],
 "metadata": {
  "kernelspec": {
   "display_name": "Python 3 (ipykernel)",
   "language": "python",
   "name": "python3"
  },
  "language_info": {
   "codemirror_mode": {
    "name": "ipython",
    "version": 3
   },
   "file_extension": ".py",
   "mimetype": "text/x-python",
   "name": "python",
   "nbconvert_exporter": "python",
   "pygments_lexer": "ipython3",
   "version": "3.11.5"
  }
 },
 "nbformat": 4,
 "nbformat_minor": 4
}
